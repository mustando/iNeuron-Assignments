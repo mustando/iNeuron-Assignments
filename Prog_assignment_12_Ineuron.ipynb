{
 "cells": [
  {
   "cell_type": "markdown",
   "id": "cd575401",
   "metadata": {},
   "source": [
    "1. Write a Python program to Extract Unique values dictionary values?\n"
   ]
  },
  {
   "cell_type": "code",
   "execution_count": 8,
   "id": "30d172c2",
   "metadata": {},
   "outputs": [
    {
     "name": "stdout",
     "output_type": "stream",
     "text": [
      "Unique values =  {210, 67, 100}\n"
     ]
    }
   ],
   "source": [
    "dicto={'a': 67, 'b':67, 'c':100, 'd':210 , 'e':67 ,'f':100}\n",
    "print(\"Unique values = \",set(dicto.values()))"
   ]
  },
  {
   "cell_type": "markdown",
   "id": "eb42a524",
   "metadata": {},
   "source": [
    "2. Write a Python program to find the sum of all items in a dictionary?\n"
   ]
  },
  {
   "cell_type": "code",
   "execution_count": 9,
   "id": "d82d9588",
   "metadata": {},
   "outputs": [
    {
     "name": "stdout",
     "output_type": "stream",
     "text": [
      "Unique values =  611\n"
     ]
    }
   ],
   "source": [
    "dicto={'a': 67, 'b':67, 'c':100, 'd':210 , 'e':67 ,'f':100}\n",
    "print(\"sum of all values = \",sum(dicto.values()))"
   ]
  },
  {
   "cell_type": "markdown",
   "id": "b5c19db2",
   "metadata": {},
   "source": [
    "3. Write a Python program to Merging two Dictionaries?\n"
   ]
  },
  {
   "cell_type": "code",
   "execution_count": 28,
   "id": "b1f066e8",
   "metadata": {},
   "outputs": [
    {
     "name": "stdout",
     "output_type": "stream",
     "text": [
      "{'a': 67, 'b': 67, 'c': 100, 'd': 210, 'e': 68, 'f': 100, 'g': 67, 'h': 100, 'i': 210, 'j': 67, 'k': 100}\n"
     ]
    }
   ],
   "source": [
    "dicto1={'a': 67, 'b':67, 'c':100, 'd':210 , 'e':68 ,'f':100}\n",
    "dicto2={ 'g':67, 'h':100, 'i':210 , 'j':67 ,'k':100}\n",
    "dicto1.update(dicto2)\n",
    "print(dicto1)"
   ]
  },
  {
   "cell_type": "markdown",
   "id": "04f28449",
   "metadata": {},
   "source": [
    "4. Write a Python program to convert key-values list to flat dictionary?\n"
   ]
  },
  {
   "cell_type": "code",
   "execution_count": 60,
   "id": "91b78f2d",
   "metadata": {},
   "outputs": [
    {
     "data": {
      "text/plain": [
       "{'gfg': '1', 'is': '2', 'best': '3'}"
      ]
     },
     "execution_count": 60,
     "metadata": {},
     "output_type": "execute_result"
    }
   ],
   "source": [
    "lst=[ 'gfg:1', \"is:2\", 'best:3']\n",
    "answer=[]\n",
    "for i in range(0, len(lst), 4):\n",
    "    dic = {}\n",
    "    for j in lst[i:i+4]:\n",
    "        dic[j.split(':')[0]] = j.split(':')[1].strip() \n",
    "    answer.append(dic)\n",
    "answer[0]"
   ]
  },
  {
   "cell_type": "markdown",
   "id": "ac549946",
   "metadata": {},
   "source": [
    "5. Write a Python program to insertion at the beginning in OrderedDict?\n"
   ]
  },
  {
   "cell_type": "code",
   "execution_count": 61,
   "id": "c8ab8f82",
   "metadata": {},
   "outputs": [
    {
     "name": "stdout",
     "output_type": "stream",
     "text": [
      "Resultant Dictionary : OrderedDict([('Kunal', '1'), ('msua', '7'), ('Krish', '22')])\n"
     ]
    }
   ],
   "source": [
    "from collections import OrderedDict\n",
    " \n",
    "# initialising ordered_dict\n",
    "iniordered_dict = OrderedDict([('msua', '7'), ('Krish', '22')])\n",
    " \n",
    "# inserting items in starting of dict\n",
    "iniordered_dict.update({'Kunal':'1'})\n",
    "iniordered_dict.move_to_end('Kunal', last = False)\n",
    " \n",
    "# print result\n",
    "print (\"Resultant Dictionary : \"+str(iniordered_dict))"
   ]
  },
  {
   "cell_type": "markdown",
   "id": "5686cf6f",
   "metadata": {},
   "source": [
    "6. Write a Python program to check order of character in string using OrderedDict()?\n"
   ]
  },
  {
   "cell_type": "code",
   "execution_count": 72,
   "id": "428682cb",
   "metadata": {},
   "outputs": [
    {
     "name": "stdout",
     "output_type": "stream",
     "text": [
      "The string is : Hi Musaaaa\n",
      "The input pattern is : Hi M\n",
      "The order of pattern is correct\n"
     ]
    }
   ],
   "source": [
    "from collections import OrderedDict\n",
    "def check_order(my_input, my_pattern):\n",
    "   my_dict = OrderedDict.fromkeys(my_input)\n",
    "   pattern_length = 0\n",
    "   for key,value in my_dict.items():\n",
    "      if (key == my_pattern[pattern_length]):\n",
    "         pattern_length = pattern_length + 1\n",
    "\n",
    "      if (pattern_length == (len(my_pattern))):\n",
    "         return 'The order of pattern is correct'\n",
    "\n",
    "   return 'The order of pattern is incorrect'\n",
    "\n",
    "my_input = 'Hi Musaaaa'\n",
    "input_pattern = 'Hi M'\n",
    "print(\"The string is :\", my_input)\n",
    "\n",
    "print(\"The input pattern is :\", input_pattern)\n",
    "print(check_order(my_input,input_pattern))"
   ]
  },
  {
   "cell_type": "markdown",
   "id": "11629aac",
   "metadata": {},
   "source": [
    "7. Write a Python program to sort Python Dictionaries by Key or Value?"
   ]
  },
  {
   "cell_type": "code",
   "execution_count": 73,
   "id": "303b64ac",
   "metadata": {},
   "outputs": [
    {
     "name": "stdout",
     "output_type": "stream",
     "text": [
      "OrderedDict([('rajnish', '9'), ('ravi', '10'), ('sanjeev', '15'), ('suraj', '32'), ('yash', '2')])\n"
     ]
    }
   ],
   "source": [
    "from collections import OrderedDict\n",
    " \n",
    "dict = {'ravi': '10', 'rajnish': '9',\n",
    "        'sanjeev': '15', 'yash': '2', 'suraj': '32'}\n",
    "dict1 = OrderedDict(sorted(dict.items()))\n",
    "print(dict1)"
   ]
  }
 ],
 "metadata": {
  "kernelspec": {
   "display_name": "Python 3",
   "language": "python",
   "name": "python3"
  },
  "language_info": {
   "codemirror_mode": {
    "name": "ipython",
    "version": 3
   },
   "file_extension": ".py",
   "mimetype": "text/x-python",
   "name": "python",
   "nbconvert_exporter": "python",
   "pygments_lexer": "ipython3",
   "version": "3.8.5"
  }
 },
 "nbformat": 4,
 "nbformat_minor": 5
}
