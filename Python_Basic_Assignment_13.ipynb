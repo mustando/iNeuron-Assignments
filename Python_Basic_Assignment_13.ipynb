{
 "cells": [
  {
   "cell_type": "markdown",
   "id": "54e431d1",
   "metadata": {},
   "source": [
    "1. What advantages do Excel spreadsheets have over CSV spreadsheets?\n",
    "\n"
   ]
  },
  {
   "cell_type": "markdown",
   "id": "b210e080",
   "metadata": {},
   "source": [
    "Excel (XLS and XLSX) file formats are better for storing and analysing complex data.\n",
    "An Excel not only stores data but can also do operations on the data using macros, formulas etc\n",
    "CSV files are plain-text files, Does not contain formatting, formulas, macros, etc. It is also known as flat files"
   ]
  },
  {
   "cell_type": "markdown",
   "id": "3b6f8208",
   "metadata": {},
   "source": [
    "2.What do you pass to csv.reader() and csv.writer() to create reader and writer objects?\n"
   ]
  },
  {
   "cell_type": "code",
   "execution_count": 7,
   "id": "a81f9dcd",
   "metadata": {},
   "outputs": [
    {
     "name": "stdout",
     "output_type": "stream",
     "text": [
      "['', 'id', 'teacher_id', 'teacher_prefix', 'school_state', 'project_submitted_datetime', 'project_grade_category', 'project_subject_categories', 'project_subject_subcategories', 'project_title', 'project_essay_1', 'project_essay_2', 'project_essay_3', 'project_essay_4', 'project_resource_summary', 'teacher_number_of_previously_posted_projects', 'project_is_approved']\n",
      "['160221', 'p253737', 'c90749f5d961ff158d4b4d1e7dc665fc', 'Mrs.', 'IN', '2016-12-05 13:43:57', 'Grades PreK-2', 'Literacy & Language', 'ESL, Literacy', 'Educational Support for English Learners at Home', 'My students are English learners that are working on English as their second or third languages. We are a melting pot of refugees, immigrants, and native-born Americans bringing the gift of language to our school. \\\\r\\\\n\\\\r\\\\n We have over 24 languages represented in our English Learner program with students at every level of mastery.  We also have over 40 countries represented with the families within our school.  Each student brings a wealth of knowledge and experiences to us that open our eyes to new cultures, beliefs, and respect.', '\\\\\"The limits of your language are the limits of your world.\\\\\"-Ludwig Wittgenstein  Our English learner\\'s have a strong support system at home that begs for more resources.  Many times our parents are learning to read and speak English along side of their children.  Sometimes this creates barriers for parents to be able to help their child learn phonetics, letter recognition, and other reading skills.\\\\r\\\\n\\\\r\\\\nBy providing these dvd\\'s and players, students are able to continue their mastery of the English language even if no one at home is able to assist.  All families with students within the Level 1 proficiency status, will be a offered to be a part of this program.  These educational videos will be specially chosen by the English Learner Teacher and will be sent home regularly to watch.  The videos are to help the child develop early reading skills.\\\\r\\\\n\\\\r\\\\nParents that do not have access to a dvd player will have the opportunity to check out a dvd player to use for the year.  The plan is to use these videos and educational dvd\\'s for the years to come for other EL students.\\\\r\\\\n', '', '', 'My students need opportunities to practice beginning reading skills in English at home.', '0', '0']\n",
      "['140945', 'p258326', '897464ce9ddc600bced1151f324dd63a', 'Mr.', 'FL', '2016-10-25 09:22:10', 'Grades 6-8', 'History & Civics, Health & Sports', 'Civics & Government, Team Sports', 'Wanted: Projector for Hungry Learners', 'Our students arrive to our school eager to learn. They are polite, generous, and strive to be the best they can be. They know that with an education, they can succeed in life and help improve on the lives that they have now.\\\\r\\\\n\\\\r\\\\nOur school focuses on families with low incomes and tries to give each student the education they deserve. While we do not have much, the students use the materials they are given and do the very best they can with them.', 'The projector we need for our school is very crucial for the academic improvement of our students. As technology continues to grow, there are so many resources in the internet that we as teachers use to further the growth of our students. However, our school is very limited with resources - particularly, technology - and without it, we are at a disadvantage. One of the things that could really help our classrooms is a projector.\\\\r\\\\n\\\\r\\\\n\\\\r\\\\nWith a projector, not only is it crucial with instruction, but also for the growth of our students. With a projector, we can show presentations, documentaries, photos of historical land sites, math problems and so much more. With a projector, we can make teaching and learning easier while also targeting the different types of learners we have in our classrooms:  auditory, visual, kinesthetic, etc. \\\\r\\\\n', '', '', 'My students need a projector to help with viewing educational programs', '7', '1']\n",
      "['21895', 'p182444', '3465aaf82da834c0582ebd0ef8040ca0', 'Ms.', 'AZ', '2016-08-31 12:03:56', 'Grades 6-8', 'Health & Sports', 'Health & Wellness, Team Sports', 'Soccer Equipment for AWESOME Middle School Students', '\\\\r\\\\n\\\\\"True champions aren\\'t always the ones that win, but those with the most guts.\\\\\" By Mia Hamm This quote best describes how the students at Cholla Middle School approach playing sports, especially for the girls and boys soccer teams. The teams are made up of 7th and 8th grade students, and most of them have not had the opportunity to play in an organized sport due to family financial difficulties. \\\\r\\\\nI teach at a Title One middle school in an urban neighborhood. 74% of our students qualify for free and reduced lunch and many come from very activity/ sport opportunity-poor homes. My students love to participate in sports to learn new skills and be apart of team atmosphere. My school lacks the funding to meet my studentsâ€™ needs and I am concerned that their lack of exposure will not prepare them for the participating in sports and teams in high school. By the end of the school year, the goal is to provide our students with an opportunity to learn a variety of soccer skills, and positive qualities of a person who actively participates on a team.', 'The students on the campus come to school knowing they face an uphill battle when it comes to participating in organized sports. The players would thrive on the field, with the confidence from having the appropriate soccer equipment to play soccer to the best of their abilities. The students will experience how to be a helpful person by being part of team that teaches them to be positive, supportive, and encouraging to others. \\\\r\\\\nMy students will be using the soccer equipment during practice and games on a daily basis to learn and practice the necessary skills to develop a strong soccer team. This experience will create the opportunity for students to learn about being part of a team, and how to be a positive contribution for their teammates. The students will get the opportunity to learn and practice a variety of soccer skills, and how to use those skills during a game.  Access to this type of experience is nearly impossible without soccer equipment for the students/ players to utilize during practice and games .', '', '', 'My students need shine guards, athletic socks, Soccer Balls, goalie gloves, and training materials for the upcoming Soccer season.', '1', '0']\n",
      "['45', 'p246581', 'f3cb9bffbba169bef1a77b243e620b60', 'Mrs.', 'KY', '2016-10-06 21:16:17', 'Grades PreK-2', 'Literacy & Language, Math & Science', 'Literacy, Mathematics', 'Techie Kindergarteners', \"I work at a unique school filled with both ESL (English as a Second Language) and High Poverty students. Our students have individual personal struggles that would break your heart but once you step through the doors you wouldn't notice anything but their positive and resilient attitude for learning. \\\\r\\\\nMy students love and support each other through every aspect of their learning journey. We have students from ALL over the world speaking 77 different languages and we are like Family. Every student is welcomed with open arms regardless of where they come from or what language they speak. Education and love have a universal language and in my classroom we have plenty of both!\", 'My students live in high poverty conditions with limited to no access to technology. Ipads provide the opportunity to learn through playing Reading and Math games that engage and inspire. These iPads will surely be the hottest commodity in my classroom as students will beg to get on to play these educational games. \\\\r\\\\nI will be tracking data on each iPad with several educational programs that will help me differentiate learning for each student. Students will also be able to track their progress through these programs. I look forward to seeing the students grow through their use with these iPads!', '', '', 'My students need to engage in Reading and Math in a way that will inspire them with these Mini iPads!', '4', '1']\n",
      "['172407', 'p104768', 'be1f7507a41f8479dc06f047086a39ec', 'Mrs.', 'TX', '2016-07-11 01:10:09', 'Grades PreK-2', 'Math & Science', 'Mathematics', 'Interactive Math Tools', \"Our second grade classroom next year will be made up of around 25 kids, many of them coming from Spanish-speaking families, many of them receive free or reduced priced lunch. These are inquisitive students, who often do not have as many educational resources at home as they need.\\\\r\\\\n These kids are curious about the world, excited to learn, and ready to find out all that an education can offer them. I'm excited to teach them and push them to meet and exceed any expectations they have of themselves.\", 'For many students, math is a subject that does not pertain to life, a subject that stresses them out. I believe in making math not only fun, but also important to their lives. A typical part of the day is our \\\\\"Calendar Math\\\\\" section, which is a time in which we talk about the calendar, the weather, and about the properties of the day. \\\\r\\\\nThese Calendar Math Journals will allow each student to be more accountable for their own learning. It will help them in paying attention and to be more involved during this time. Students are also expected to know how to count from 1-120 and to understand all these numbers. These charts will be an important resource to them in different math tasks, and will also provide a simple task for early finishers, ie : \\\\\"fill out your charts when you\\'re done with your assignment!\\\\\"', '', '', 'My students need hands on practice in mathematics. Having fun and personalized journals and charts will help them be more involved in our daily Math routines.', '1', '1']\n",
      "['141660', 'p154343', 'a50a390e8327a95b77b9e495b58b9a6e', 'Mrs.', 'FL', '2017-04-08 22:40:43', 'Grades 3-5', 'Literacy & Language, Special Needs', 'Literature & Writing, Special Needs', \"Flexible Seating for Mrs. Jarvis' Terrific Third Graders!!\", 'I will be moving from 2nd grade to 3rd grade at the beginning of the next school year. I will be takings some of my current students with me in the move. I teach an inclusion classroom, which includes students with ADHD, SLD, as well as autistic students. My students work very hard on achieving their goals, no matter what struggles they may have. The school where I teach houses a great deal of autistic students, as well as ELL students.  My student love to read, work, and challenge themselves. They also LOVE to move around. They work better when able to move about the room to different areas, rather then their usual set.', 'These flexible seating options will allow my students to have different seating options. Instead of sitting at the traditional desk and chair, they will be able to use these flexible seating tools to reduce stress and anxiety. These tools are beneficial to students with special needs, but also all students. It is a proven fact that when students are up and moving, more oxygen is going to the brain, which means more learning is taking place. These flexible seating options allow the students to move from their traditional seat and allows them to reduce their stress in the classroom. \\\\r\\\\nThis project will significantly help my students reduce the stress and anxiety of standardized testing. \\\\r\\\\nThe students in 3rd grade are required to take the state mandated test. This puts a great deal of stress on the students to perform well on the test. If the students are able to work throughout the year in a less stressful classroom, because of the assistance of flexible seating, they will obtain the skills needed to be successful on the standardized test.', '', '', 'My students need movement to be successful. Being that I have a variety of students that have all different types of needs, flexible seating would assist not only these students with special needs, but all students.', '1', '1']\n",
      "['21147', 'p099819', '9b40170bfa65e399981717ee8731efc3', 'Mrs.', 'CT', '2017-02-17 19:58:56', 'Grades 6-8', 'Literacy & Language, Special Needs', 'Literacy, Special Needs', 'Chromebooks for Special Education Reading Program', 'My students are a dynamic and very energetic group of middle schoolers.  They, also, generally come from a low socioeconomic background and, as a result, often do not have access to the supplies and opportunities of other middle schoolers in the state.  I have seen their excitement as they master a new skill that they were previously unable to accomplish.  They love using technology and respond well to computer-based programs.  They are deserving kids that just need opportunities to succeed.', 'My students are an engaging and active group of kids that struggle with basic reading and writing.  They daily use a well-researched, reading program called Read 180.  This program necessitates daily computer work.  \\\\r\\\\nWhile the school has a computer lab, it does not have an adequate number of computers that can run the Read 180 reading program.  In addition to this, many of the computers are shared with the rest of the school, so we do not always have the access that we need.  We are also in need of additional computers for the continual influx of new special education students.  The computers would also be used for weekly math practice as well as for in-class research.', '', '', 'My students need some dependable laptops for daily classroom use for reading and math.', '1', '1']\n",
      "['94142', 'p092424', '5bfd3d12fae3d2fe88684bbac570c9d2', 'Ms.', 'GA', '2016-09-01 00:02:15', 'Grades 3-5', 'Math & Science', 'Mathematics', \"It's the 21st Century\", 'Not only do our students struggle with poverty, but some of them are also learning to master the English Language. Minority students represent about 35% of our student population. Regardless of their background or socioeconomic status, these students deserve a high quality education.\\\\r\\\\nThese children are our Future.\\\\r\\\\nThese students are eager to learn, they are filled with excitement at any opportunity to use technology in the classroom. However, with almost 650 students attending my school and only 4 ipad carts for the entire building, they do not get as much exposure as they need. As an educator it is vital that I try and help them become apart of the 21 century in this digital age. These ipads will allow me to do just that.\\\\r\\\\n\\\\r\\\\n', 'My students need 4 iPads, the latest technology in our classroom.\\\\r\\\\n\\\\r\\\\nA long time ago we used paper and pencils for teaching students. That time has passed. In the 21st century my students need the latest technology to stay ahead.\\\\r\\\\n\\\\r\\\\nMy students are fully engaged when they use technology, you can hear a pin drop in the room. Ipads can make the simplest tasks more fun! For example, instead of worksheets they can use interactive apps to practice math skills. The mobility of the ipad is also important as the students will be using it all around the classroom and sometimes in other areas of the school.\\\\r\\\\nI am requesting 4 ipads to use in the classroom. My students will use it to listen to digital books, do assignments on study island, study jams and other interactive sites.\\\\r\\\\nPlease help fund this project!\\\\r\\\\nWhen we do get the opportunity to use the ipad cart at the school, I have noticed how beneficial they are to student learning. Not only will donating to this project help my students, it will also help our future.', '', '', 'My students need ipads to help them access a world of online resources that will spark their interest in learning.', '7', '1']\n"
     ]
    },
    {
     "ename": "UnicodeDecodeError",
     "evalue": "'charmap' codec can't decode byte 0x9d in position 2936: character maps to <undefined>",
     "output_type": "error",
     "traceback": [
      "\u001b[1;31m---------------------------------------------------------------------------\u001b[0m",
      "\u001b[1;31mUnicodeDecodeError\u001b[0m                        Traceback (most recent call last)",
      "\u001b[1;32m<ipython-input-7-91c477d9d867>\u001b[0m in \u001b[0;36m<module>\u001b[1;34m\u001b[0m\n\u001b[0;32m      2\u001b[0m \u001b[1;32mwith\u001b[0m \u001b[0mopen\u001b[0m\u001b[1;33m(\u001b[0m\u001b[1;34m'train_data.csv'\u001b[0m\u001b[1;33m,\u001b[0m\u001b[1;34m'r'\u001b[0m\u001b[1;33m)\u001b[0m \u001b[1;32mas\u001b[0m \u001b[0mfile\u001b[0m\u001b[1;33m:\u001b[0m\u001b[1;33m\u001b[0m\u001b[1;33m\u001b[0m\u001b[0m\n\u001b[0;32m      3\u001b[0m     \u001b[0mcsv_file\u001b[0m \u001b[1;33m=\u001b[0m \u001b[0mcsv\u001b[0m\u001b[1;33m.\u001b[0m\u001b[0mreader\u001b[0m\u001b[1;33m(\u001b[0m\u001b[0mfile\u001b[0m\u001b[1;33m,\u001b[0m\u001b[0mdelimiter\u001b[0m\u001b[1;33m=\u001b[0m\u001b[1;34m','\u001b[0m\u001b[1;33m)\u001b[0m\u001b[1;33m\u001b[0m\u001b[1;33m\u001b[0m\u001b[0m\n\u001b[1;32m----> 4\u001b[1;33m     \u001b[1;32mfor\u001b[0m \u001b[0mele\u001b[0m \u001b[1;32min\u001b[0m \u001b[0mcsv_file\u001b[0m\u001b[1;33m:\u001b[0m\u001b[1;33m\u001b[0m\u001b[1;33m\u001b[0m\u001b[0m\n\u001b[0m\u001b[0;32m      5\u001b[0m         \u001b[0mprint\u001b[0m\u001b[1;33m(\u001b[0m\u001b[0mele\u001b[0m\u001b[1;33m)\u001b[0m\u001b[1;33m\u001b[0m\u001b[1;33m\u001b[0m\u001b[0m\n",
      "\u001b[1;32m~\\Anaconda3\\lib\\encodings\\cp1252.py\u001b[0m in \u001b[0;36mdecode\u001b[1;34m(self, input, final)\u001b[0m\n\u001b[0;32m     21\u001b[0m \u001b[1;32mclass\u001b[0m \u001b[0mIncrementalDecoder\u001b[0m\u001b[1;33m(\u001b[0m\u001b[0mcodecs\u001b[0m\u001b[1;33m.\u001b[0m\u001b[0mIncrementalDecoder\u001b[0m\u001b[1;33m)\u001b[0m\u001b[1;33m:\u001b[0m\u001b[1;33m\u001b[0m\u001b[1;33m\u001b[0m\u001b[0m\n\u001b[0;32m     22\u001b[0m     \u001b[1;32mdef\u001b[0m \u001b[0mdecode\u001b[0m\u001b[1;33m(\u001b[0m\u001b[0mself\u001b[0m\u001b[1;33m,\u001b[0m \u001b[0minput\u001b[0m\u001b[1;33m,\u001b[0m \u001b[0mfinal\u001b[0m\u001b[1;33m=\u001b[0m\u001b[1;32mFalse\u001b[0m\u001b[1;33m)\u001b[0m\u001b[1;33m:\u001b[0m\u001b[1;33m\u001b[0m\u001b[1;33m\u001b[0m\u001b[0m\n\u001b[1;32m---> 23\u001b[1;33m         \u001b[1;32mreturn\u001b[0m \u001b[0mcodecs\u001b[0m\u001b[1;33m.\u001b[0m\u001b[0mcharmap_decode\u001b[0m\u001b[1;33m(\u001b[0m\u001b[0minput\u001b[0m\u001b[1;33m,\u001b[0m\u001b[0mself\u001b[0m\u001b[1;33m.\u001b[0m\u001b[0merrors\u001b[0m\u001b[1;33m,\u001b[0m\u001b[0mdecoding_table\u001b[0m\u001b[1;33m)\u001b[0m\u001b[1;33m[\u001b[0m\u001b[1;36m0\u001b[0m\u001b[1;33m]\u001b[0m\u001b[1;33m\u001b[0m\u001b[1;33m\u001b[0m\u001b[0m\n\u001b[0m\u001b[0;32m     24\u001b[0m \u001b[1;33m\u001b[0m\u001b[0m\n\u001b[0;32m     25\u001b[0m \u001b[1;32mclass\u001b[0m \u001b[0mStreamWriter\u001b[0m\u001b[1;33m(\u001b[0m\u001b[0mCodec\u001b[0m\u001b[1;33m,\u001b[0m\u001b[0mcodecs\u001b[0m\u001b[1;33m.\u001b[0m\u001b[0mStreamWriter\u001b[0m\u001b[1;33m)\u001b[0m\u001b[1;33m:\u001b[0m\u001b[1;33m\u001b[0m\u001b[1;33m\u001b[0m\u001b[0m\n",
      "\u001b[1;31mUnicodeDecodeError\u001b[0m: 'charmap' codec can't decode byte 0x9d in position 2936: character maps to <undefined>"
     ]
    }
   ],
   "source": [
    "import csv\n",
    "with open('train_data.csv','r') as file:\n",
    "    csv_file = csv.reader(file,delimiter=',')\n",
    "    for ele in csv_file:\n",
    "        print(ele)"
   ]
  },
  {
   "cell_type": "markdown",
   "id": "cc939f95",
   "metadata": {},
   "source": [
    "3. What modes do File objects for reader and writer objects need to be opened in?"
   ]
  },
  {
   "cell_type": "markdown",
   "id": "de5445fb",
   "metadata": {},
   "source": [
    "For csv.reader(iterable_file_object), the file objects needed to be opened in read mode mode='r' Whereas for csv.writer(iterable_file_object) the file objects needed to be opened in write mode mode='w'"
   ]
  },
  {
   "cell_type": "markdown",
   "id": "c6623d1f",
   "metadata": {},
   "source": [
    "4. What method takes a list argument and writes it to a CSV file?"
   ]
  },
  {
   "cell_type": "markdown",
   "id": "1c899209",
   "metadata": {},
   "source": [
    "csv.writer class provides two methods for writing to CSV. They are writerow() and writerows(). writerow() method writes a single row at a time. Whereas writerows() method is used to write multiple rows at a time."
   ]
  },
  {
   "cell_type": "code",
   "execution_count": null,
   "id": "cae49d6c",
   "metadata": {},
   "outputs": [],
   "source": [
    "import csv      \n",
    "fields = ['Nme', 'Brnch', 'Yer', 'CGP'] #column names \n",
    "rows = [ \n",
    "            ['Nikil', 'COE', '2', '9.0'],  # data rows of csv file \n",
    "            ['Sachit', 'COE', '2', '9.1'], \n",
    "            ['Rvi', 'IT', '2', '9.3']\n",
    "       ] \n",
    "with open(\"university_records.csv\", 'w') as csvfile: \n",
    "    csvwriter = csv.writer(csvfile) # creating a csv writer object \n",
    "    csvwriter.writerow(fields) # writing the fields \n",
    "    csvwriter.writerows(rows) # writing the data rows"
   ]
  },
  {
   "cell_type": "markdown",
   "id": "cf8da076",
   "metadata": {},
   "source": [
    "5. What do the keyword arguments delimiter and line terminator do?\n"
   ]
  },
  {
   "cell_type": "markdown",
   "id": "048a6afc",
   "metadata": {},
   "source": [
    "Lets take the example of a csv file:\n",
    "First Name, Last Name, Age\n",
    "deepak, Visnu, 26\n",
    "Affle, Varhan, 22\n",
    "Here ',' is Delimiter. We can use any Character as per our needs if required. \n",
    "Similarly Line Terminator comes at end of line by default it is newline and can be changed accourding to Requirement."
   ]
  },
  {
   "cell_type": "markdown",
   "id": "aedb15fe",
   "metadata": {},
   "source": [
    "6. What function takes a string of JSON data and returns a Python data structure?\n"
   ]
  },
  {
   "cell_type": "markdown",
   "id": "20f9b1bf",
   "metadata": {},
   "source": [
    "loads() method takes a string of JSON data and returns a Python data structure"
   ]
  },
  {
   "cell_type": "code",
   "execution_count": null,
   "id": "f5a14979",
   "metadata": {},
   "outputs": [],
   "source": [
    "import json\n",
    "my_details_json ='''{\n",
    "    \"Name\": \"Mano Vishnu\",\n",
    "    \"Qualification\": \"Bachelor of Technology\",\n",
    "    \"Stream\": \"Computer Science and Engineering\"\n",
    "}'''\n",
    "print(my_details_json)\n",
    "print(f'Type of my_details_json is {type(my_details_json)}')\n",
    "my_details = json.loads(my_details_json)\n",
    "print(my_details)\n",
    "print(f'Type of my_details is {type(my_details)}')"
   ]
  },
  {
   "cell_type": "markdown",
   "id": "05e45223",
   "metadata": {},
   "source": [
    "7. What function takes a Python data structure and returns a string of JSON data?"
   ]
  },
  {
   "cell_type": "markdown",
   "id": "488498c3",
   "metadata": {},
   "source": [
    "dumps() method takes a python data structure and returns a string of JSON data"
   ]
  }
 ],
 "metadata": {
  "kernelspec": {
   "display_name": "Python 3",
   "language": "python",
   "name": "python3"
  },
  "language_info": {
   "codemirror_mode": {
    "name": "ipython",
    "version": 3
   },
   "file_extension": ".py",
   "mimetype": "text/x-python",
   "name": "python",
   "nbconvert_exporter": "python",
   "pygments_lexer": "ipython3",
   "version": "3.8.5"
  }
 },
 "nbformat": 4,
 "nbformat_minor": 5
}
