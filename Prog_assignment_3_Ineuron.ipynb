{
 "cells": [
  {
   "cell_type": "markdown",
   "metadata": {},
   "source": [
    "# 1.\tWrite a Python Program to Check if a Number is Positive, Negative or Zero?\n",
    "\n",
    "\n",
    "\n"
   ]
  },
  {
   "cell_type": "code",
   "execution_count": 15,
   "metadata": {},
   "outputs": [],
   "source": [
    "def posneg():\n",
    "    num= int(input(\"enter number \"))\n",
    "    if num>0:\n",
    "        print(\"Entered Number is positive\")\n",
    "    elif num<0:\n",
    "        print(\"Entered Number is Negative\")\n",
    "    else:\n",
    "        print(\"Entered Number is 0\")"
   ]
  },
  {
   "cell_type": "code",
   "execution_count": 16,
   "metadata": {},
   "outputs": [
    {
     "name": "stdout",
     "output_type": "stream",
     "text": [
      "enter number 0\n",
      "Entered Number is 0\n"
     ]
    }
   ],
   "source": [
    "posneg()"
   ]
  },
  {
   "cell_type": "code",
   "execution_count": 17,
   "metadata": {
    "scrolled": true
   },
   "outputs": [
    {
     "name": "stdout",
     "output_type": "stream",
     "text": [
      "enter number 9\n",
      "Entered Number is positive\n"
     ]
    }
   ],
   "source": [
    "posneg()"
   ]
  },
  {
   "cell_type": "code",
   "execution_count": 18,
   "metadata": {},
   "outputs": [
    {
     "name": "stdout",
     "output_type": "stream",
     "text": [
      "enter number -9\n",
      "Entered Number is Negative\n"
     ]
    }
   ],
   "source": [
    "posneg()"
   ]
  },
  {
   "cell_type": "markdown",
   "metadata": {},
   "source": [
    "# 2.\tWrite a Python Program to Check if a Number is Odd or Even?"
   ]
  },
  {
   "cell_type": "code",
   "execution_count": 9,
   "metadata": {},
   "outputs": [],
   "source": [
    "def evOdd():\n",
    "    num= int(input(\"enter number \"))\n",
    "    if num%2==0:\n",
    "        print(\"Entered Number is even\")\n",
    "    else:\n",
    "        print(\"Entered Number is odd\")"
   ]
  },
  {
   "cell_type": "code",
   "execution_count": 10,
   "metadata": {},
   "outputs": [
    {
     "name": "stdout",
     "output_type": "stream",
     "text": [
      "enter number 10\n",
      "Entered Number is even\n"
     ]
    }
   ],
   "source": [
    "evOdd()"
   ]
  },
  {
   "cell_type": "code",
   "execution_count": 11,
   "metadata": {},
   "outputs": [
    {
     "name": "stdout",
     "output_type": "stream",
     "text": [
      "enter number 7\n",
      "Entered Number is odd\n"
     ]
    }
   ],
   "source": [
    "evOdd()"
   ]
  },
  {
   "cell_type": "markdown",
   "metadata": {},
   "source": [
    "# 3.\tWrite a Python Program to Check Leap Year?"
   ]
  },
  {
   "cell_type": "code",
   "execution_count": 19,
   "metadata": {},
   "outputs": [],
   "source": [
    "def leap():\n",
    "    num= int(input(\"enter Year \"))\n",
    "    if num%4==0:\n",
    "        print(\"Entered Year is a leap year\")\n",
    "    else:\n",
    "        print(\"Entered Year is NOT leap year\")"
   ]
  },
  {
   "cell_type": "code",
   "execution_count": 20,
   "metadata": {},
   "outputs": [
    {
     "name": "stdout",
     "output_type": "stream",
     "text": [
      "enter Year 2019\n",
      "Entered Year is NOT leap year\n"
     ]
    }
   ],
   "source": [
    "leap()"
   ]
  },
  {
   "cell_type": "code",
   "execution_count": 21,
   "metadata": {},
   "outputs": [
    {
     "name": "stdout",
     "output_type": "stream",
     "text": [
      "enter Year 2020\n",
      "Entered Year is a leap year\n"
     ]
    }
   ],
   "source": [
    "leap()"
   ]
  },
  {
   "cell_type": "markdown",
   "metadata": {},
   "source": [
    "# 4.\tWrite a Python Program to Check Prime Number?\n"
   ]
  },
  {
   "cell_type": "code",
   "execution_count": 26,
   "metadata": {},
   "outputs": [
    {
     "name": "stdout",
     "output_type": "stream",
     "text": [
      "0\n",
      "1\n",
      "2\n",
      "3\n",
      "4\n",
      "5\n",
      "6\n",
      "7\n",
      "8\n",
      "9\n"
     ]
    }
   ],
   "source": [
    "for i in range (0,10):\n",
    "    print(i)"
   ]
  },
  {
   "cell_type": "code",
   "execution_count": 33,
   "metadata": {},
   "outputs": [],
   "source": [
    "def primecheck():\n",
    "    num=int(input(\"Enter number to check: \"))\n",
    "    if num>1:\n",
    "        flag=False\n",
    "        for i in range(2,num):\n",
    "            if num%i==0:\n",
    "                flag=True\n",
    "                break\n",
    "    if flag:\n",
    "        print(\"{0} is NOT a prime number\".format(num))\n",
    "    else:\n",
    "        print(\"{0} IS a prime number\".format(num))\n",
    "                \n",
    "                \n",
    "            "
   ]
  },
  {
   "cell_type": "code",
   "execution_count": 36,
   "metadata": {
    "scrolled": true
   },
   "outputs": [
    {
     "name": "stdout",
     "output_type": "stream",
     "text": [
      "Enter number to check: 99\n",
      "99 is NOT a prime number\n"
     ]
    }
   ],
   "source": [
    "primecheck()"
   ]
  },
  {
   "cell_type": "code",
   "execution_count": 32,
   "metadata": {},
   "outputs": [
    {
     "name": "stdout",
     "output_type": "stream",
     "text": [
      "Enter number to check: 5\n",
      "5 IS a prime number\n"
     ]
    }
   ],
   "source": [
    "primecheck()"
   ]
  },
  {
   "cell_type": "markdown",
   "metadata": {},
   "source": [
    "# 5.\tWrite a Python Program to Print all Prime Numbers in an Interval of 1-10000?"
   ]
  },
  {
   "cell_type": "code",
   "execution_count": 63,
   "metadata": {},
   "outputs": [],
   "source": [
    "def primecheck2():\n",
    "    lower=int(input(\"Enter Start number: \"))\n",
    "    upper=int(input(\"Enter End Number: \"))\n",
    "    print(\"Prime numbers between\", lower, \"and\", upper, \"are:\")\n",
    "    for num in range(lower,upper+1):\n",
    "        if num>1:\n",
    "            for i in range(2,num):\n",
    "                if num%i==0:\n",
    "                    break\n",
    "            else:\n",
    "                print(num)   \n"
   ]
  },
  {
   "cell_type": "code",
   "execution_count": 65,
   "metadata": {},
   "outputs": [
    {
     "name": "stdout",
     "output_type": "stream",
     "text": [
      "Enter Start number: 500\n",
      "Enter End Number: 600\n",
      "Prime numbers between 500 and 600 are:\n",
      "503\n",
      "509\n",
      "521\n",
      "523\n",
      "541\n",
      "547\n",
      "557\n",
      "563\n",
      "569\n",
      "571\n",
      "577\n",
      "587\n",
      "593\n",
      "599\n"
     ]
    }
   ],
   "source": [
    "primecheck2()"
   ]
  }
 ],
 "metadata": {
  "kernelspec": {
   "display_name": "Python 3",
   "language": "python",
   "name": "python3"
  },
  "language_info": {
   "codemirror_mode": {
    "name": "ipython",
    "version": 3
   },
   "file_extension": ".py",
   "mimetype": "text/x-python",
   "name": "python",
   "nbconvert_exporter": "python",
   "pygments_lexer": "ipython3",
   "version": "3.8.5"
  }
 },
 "nbformat": 4,
 "nbformat_minor": 4
}
