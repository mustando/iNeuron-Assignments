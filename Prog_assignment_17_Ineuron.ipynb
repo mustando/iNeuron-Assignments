{
 "cells": [
  {
   "cell_type": "markdown",
   "id": "c0833805",
   "metadata": {},
   "source": [
    "Question1. Create a function that takes three arguments a, b, c and returns the sum of the\n",
    "numbers that are evenly divided by c from the range a, b inclusive.\n",
    "Examples\n",
    "evenly_divisible(1, 10, 20) ➞ 0\n",
    "# No number between 1 and 10 can be evenly divided by 20.\n",
    "evenly_divisible(1, 10, 2) ➞ 30\n",
    "# 2 + 4 + 6 + 8 + 10 = 30\n",
    "evenly_divisible(1, 10, 3) ➞ 18\n",
    "# 3 + 6 + 9 = 18"
   ]
  },
  {
   "cell_type": "code",
   "execution_count": 42,
   "id": "17dbfd59",
   "metadata": {
    "scrolled": true
   },
   "outputs": [],
   "source": [
    "def sum1():\n",
    "    a=int(input(\"Enter First Number : \"))\n",
    "    b=int(input(\"Enter Second Number : \"))\n",
    "    c=int(input(\"Enter Third Number : \"))\n",
    "    ls=[]\n",
    "    for i in range(a,b+1):\n",
    "        if(i%c==0):\n",
    "            ls.append(i)\n",
    "    #print(ls)        \n",
    "    print(sum(ls))"
   ]
  },
  {
   "cell_type": "code",
   "execution_count": 43,
   "id": "d70891cc",
   "metadata": {
    "scrolled": true
   },
   "outputs": [
    {
     "name": "stdout",
     "output_type": "stream",
     "text": [
      "Enter First Number : 1\n",
      "Enter Second Number : 10\n",
      "Enter Third Number : 3\n",
      "18\n"
     ]
    }
   ],
   "source": [
    "sum1()"
   ]
  },
  {
   "cell_type": "code",
   "execution_count": 44,
   "id": "7dedbe14",
   "metadata": {
    "scrolled": true
   },
   "outputs": [
    {
     "name": "stdout",
     "output_type": "stream",
     "text": [
      "Enter First Number : 1\n",
      "Enter Second Number : 10\n",
      "Enter Third Number : 2\n",
      "30\n"
     ]
    }
   ],
   "source": [
    "sum1()"
   ]
  },
  {
   "cell_type": "code",
   "execution_count": 45,
   "id": "9af94977",
   "metadata": {},
   "outputs": [
    {
     "name": "stdout",
     "output_type": "stream",
     "text": [
      "Enter First Number : 1\n",
      "Enter Second Number : 10\n",
      "Enter Third Number : 20\n",
      "0\n"
     ]
    }
   ],
   "source": [
    "sum1()"
   ]
  },
  {
   "cell_type": "markdown",
   "id": "e09a98cf",
   "metadata": {},
   "source": [
    "\n",
    "2.Create a function that returns True if a given inequality expression is correct and False otherwise ?\n",
    "Examples:\n",
    "correct_signs(\"3 < 7 < 11\") ➞ True\n",
    "correct_signs(\"13 > 44 > 33 > 1\") ➞ False\n",
    "correct_signs(\"1 < 2 < 6 < 9 > 3\") ➞ True"
   ]
  },
  {
   "cell_type": "code",
   "execution_count": 46,
   "id": "d30be296",
   "metadata": {},
   "outputs": [
    {
     "name": "stdout",
     "output_type": "stream",
     "text": [
      "Enter the inequality: 3<7<11\n",
      "3<7<11 ➞ True\n",
      "Enter the inequality: 13 > 44 > 33 > 1\n",
      "13 > 44 > 33 > 1 ➞ False\n",
      "Enter the inequality: 1 < 2 < 6 < 9 > 3\n",
      "1 < 2 < 6 < 9 > 3 ➞ True\n"
     ]
    }
   ],
   "source": [
    "def checkEquality():\n",
    "    in_string = input('Enter the inequality: ')\n",
    "    out_bool = eval(in_string)\n",
    "    print(f'{in_string} ➞ {out_bool}')\n",
    "\n",
    "for x in range(3):\n",
    "    checkEquality()"
   ]
  },
  {
   "cell_type": "markdown",
   "id": "8e0cacfb",
   "metadata": {},
   "source": [
    "3.Create a function that replaces all the vowels in a string with a specified character ?"
   ]
  },
  {
   "cell_type": "code",
   "execution_count": 55,
   "id": "118e99cf",
   "metadata": {},
   "outputs": [],
   "source": [
    "def replace_vowels():\n",
    "    vowels=['a','e','i','o','u','A','E','I','O','U']\n",
    "    in_string=str(input(\"Enter String : \"))\n",
    "    replace_char=str(input(\"Enter Replace Charater : \"))\n",
    "    in_string_copy=in_string\n",
    "    for word in in_string:\n",
    "        for char in word:\n",
    "            if char in vowels:\n",
    "                in_string= in_string.replace(char,replace_char)\n",
    "    print(in_string)\n"
   ]
  },
  {
   "cell_type": "code",
   "execution_count": 56,
   "id": "0f311fe8",
   "metadata": {},
   "outputs": [
    {
     "name": "stdout",
     "output_type": "stream",
     "text": [
      "Enter String : Quick Brown FOX JUMPS over the LAZy dogs\n",
      "Enter Replace Charater : @\n",
      "Q@@ck Br@wn F@X J@MPS @v@r th@ L@Zy d@gs\n"
     ]
    }
   ],
   "source": [
    "replace_vowels()\n"
   ]
  },
  {
   "cell_type": "markdown",
   "id": "0ba58307",
   "metadata": {},
   "source": [
    "4.Write a function that calculates the factorial of a number recursively ?\n",
    "factorial(5) ➞ 120\n",
    "factorial(3) ➞ 6\n",
    "factorial(1) ➞ 1\n",
    "factorial(0) ➞ 1\n"
   ]
  },
  {
   "cell_type": "code",
   "execution_count": 59,
   "id": "2ae65ca7",
   "metadata": {},
   "outputs": [],
   "source": [
    "def factorial(n):\n",
    "    if n==0:\n",
    "        return 1\n",
    "    return n * factorial(n-1)"
   ]
  },
  {
   "cell_type": "code",
   "execution_count": 63,
   "id": "a20bec07",
   "metadata": {},
   "outputs": [
    {
     "name": "stdout",
     "output_type": "stream",
     "text": [
      "120\n",
      "6\n",
      "1\n",
      "1\n"
     ]
    }
   ],
   "source": [
    "print(factorial(5))\n",
    "print(factorial(3))\n",
    "print(factorial(1))\n",
    "print(factorial(0))"
   ]
  },
  {
   "cell_type": "markdown",
   "id": "d6db981c",
   "metadata": {},
   "source": [
    "5.Hamming distance is the number of characters that differ between two strings ?\n",
    "To illustrate:\n",
    "String1: \"abcbba\"\n",
    "String2: \"abcbda\"\n",
    "Hamming Distance: 1 - \"b\" vs. \"d\" is the only difference.\n",
    "Create a function that computes the hamming distance between two strings.\n",
    "Examples:\n",
    "hamming_distance(\"abcde\", \"bcdef\") ➞ 5\n",
    "hamming_distance(\"abcde\", \"abcde\") ➞ 0\n",
    "hamming_distance(\"strong\", \"strung\") ➞ 1"
   ]
  },
  {
   "cell_type": "code",
   "execution_count": 89,
   "id": "f10a11d7",
   "metadata": {},
   "outputs": [],
   "source": [
    "def genHamDistance():\n",
    "    in_string_1 = list(input('Enter the String_1: '))\n",
    "    in_string_2 = list(input('Enter the String_2: '))\n",
    "    count=0\n",
    "    if (len(in_string_1)==len(in_string_2)):\n",
    "        for i in range(0,len(in_string_2)):\n",
    "            if (in_string_1[i]!=in_string_2[i]):\n",
    "                count=count+1\n",
    "    elif count==0:\n",
    "        print(\"Both Strings are not the same length\")\n",
    "    print(count)"
   ]
  },
  {
   "cell_type": "code",
   "execution_count": 90,
   "id": "7cdaf1b8",
   "metadata": {},
   "outputs": [
    {
     "name": "stdout",
     "output_type": "stream",
     "text": [
      "Enter the String_1: abcde\n",
      "Enter the String_2: bcdef\n",
      "5\n",
      "Enter the String_1: abcde\n",
      "Enter the String_2: abcde\n",
      "0\n",
      "Enter the String_1: strong\n",
      "Enter the String_2: strung\n",
      "1\n"
     ]
    }
   ],
   "source": [
    "for i in range(3):\n",
    "    genHamDistance()"
   ]
  }
 ],
 "metadata": {
  "kernelspec": {
   "display_name": "Python 3",
   "language": "python",
   "name": "python3"
  },
  "language_info": {
   "codemirror_mode": {
    "name": "ipython",
    "version": 3
   },
   "file_extension": ".py",
   "mimetype": "text/x-python",
   "name": "python",
   "nbconvert_exporter": "python",
   "pygments_lexer": "ipython3",
   "version": "3.8.5"
  }
 },
 "nbformat": 4,
 "nbformat_minor": 5
}
