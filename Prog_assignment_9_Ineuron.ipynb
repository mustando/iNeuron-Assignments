{
 "cells": [
  {
   "cell_type": "markdown",
   "id": "1b859718",
   "metadata": {},
   "source": [
    "1. Write a Python program to check if the given number is a Disarium Number?\n"
   ]
  },
  {
   "cell_type": "code",
   "execution_count": 444,
   "id": "c641affb",
   "metadata": {},
   "outputs": [],
   "source": [
    "def check_disarium():\n",
    "    num=int(input(\"Enter the number: \"))\n",
    "    og_num=num\n",
    "    length=len(str(num))\n",
    "\n",
    "    sum1=0\n",
    "    for i in reversed(range(1,1+length)):\n",
    "        temp=int(num)%10\n",
    "        #print(\"temp \", temp)\n",
    "        sum1=sum1+temp**i\n",
    "        num=num/10\n",
    "\n",
    "    print(\"Number returned after process= \", sum1)\n",
    "\n",
    "    if sum1==og_num:\n",
    "        print(\"Entered number \",og_num,\" is a disarium number\")\n",
    "    else:\n",
    "        print(\"Entered number \",og_num,\" is NOT a disarium number\")   "
   ]
  },
  {
   "cell_type": "code",
   "execution_count": 445,
   "id": "158b0fe2",
   "metadata": {
    "scrolled": true
   },
   "outputs": [
    {
     "name": "stdout",
     "output_type": "stream",
     "text": [
      "Enter the number: 135\n",
      "Number returned after process=  135\n",
      "Entered number  135  is a disarium number\n"
     ]
    }
   ],
   "source": [
    "check_disarium()"
   ]
  },
  {
   "cell_type": "code",
   "execution_count": 446,
   "id": "ffa0798f",
   "metadata": {
    "scrolled": true
   },
   "outputs": [
    {
     "name": "stdout",
     "output_type": "stream",
     "text": [
      "Enter the number: 22\n",
      "Number returned after process=  6\n",
      "Entered number  22  is NOT a disarium number\n"
     ]
    }
   ],
   "source": [
    "check_disarium()"
   ]
  },
  {
   "cell_type": "code",
   "execution_count": 447,
   "id": "67cf0a23",
   "metadata": {},
   "outputs": [
    {
     "name": "stdout",
     "output_type": "stream",
     "text": [
      "Enter the number: 179\n",
      "Number returned after process=  779\n",
      "Entered number  179  is NOT a disarium number\n"
     ]
    }
   ],
   "source": [
    "check_disarium()"
   ]
  },
  {
   "cell_type": "markdown",
   "id": "19df83c1",
   "metadata": {},
   "source": [
    "2. Write a Python program to print all disarium numbers between 1 to 100?\n"
   ]
  },
  {
   "cell_type": "code",
   "execution_count": 448,
   "id": "7df92685",
   "metadata": {},
   "outputs": [],
   "source": [
    "def print_disarium():\n",
    "    num=list(range(1,101))\n",
    "    #print(num)\n",
    "    dis=[]\n",
    "    for j in num:\n",
    "            sum1=0\n",
    "            length=len(str(j))\n",
    "            og_num=j\n",
    "            #print(\"number \",j)\n",
    "            for i in reversed(range(1,1+length)):\n",
    "\n",
    "\n",
    "                temp=int(j)%10\n",
    "                #print(\"temp \", temp)\n",
    "                sum1=sum1+temp**i\n",
    "                j=j/10\n",
    "\n",
    "            if sum1==og_num:\n",
    "                dis.append(og_num)\n",
    "    print(dis)   "
   ]
  },
  {
   "cell_type": "code",
   "execution_count": 449,
   "id": "eb453f14",
   "metadata": {},
   "outputs": [
    {
     "name": "stdout",
     "output_type": "stream",
     "text": [
      "[1, 2, 3, 4, 5, 6, 7, 8, 9, 89]\n"
     ]
    }
   ],
   "source": [
    "print_disarium()"
   ]
  },
  {
   "cell_type": "markdown",
   "id": "745eaebc",
   "metadata": {},
   "source": [
    "3. Write a Python program to check if the given number is Happy Number?\n"
   ]
  },
  {
   "cell_type": "code",
   "execution_count": 453,
   "id": "7b29e35b",
   "metadata": {},
   "outputs": [
    {
     "name": "stdout",
     "output_type": "stream",
     "text": [
      "Enter a Number: 19\n",
      "19 is a Happy Number\n",
      "Enter a Number: 5\n",
      "5 is not a Happy Number\n"
     ]
    }
   ],
   "source": [
    "def checkHappyNumber():\n",
    "    in_num = input('Enter a Number: ')\n",
    "    in_num_duplicate = in_num\n",
    "    trackNumber = set()   \n",
    "    while True:\n",
    "        if in_num != '1' and str(in_num) not in trackNumber:\n",
    "            trackNumber.add(in_num)\n",
    "            sum = 0\n",
    "            for ele in range(len((in_num))):\n",
    "                sum = sum + int(in_num[ele])**2\n",
    "            in_num = str(sum)\n",
    "        elif str(in_num) in trackNumber:\n",
    "            print(f'{in_num_duplicate} is not a Happy Number')\n",
    "            break\n",
    "        else:\n",
    "            print(f'{in_num_duplicate} is a Happy Number')\n",
    "            break\n",
    "\n",
    "checkHappyNumber()\n",
    "checkHappyNumber()"
   ]
  },
  {
   "cell_type": "markdown",
   "id": "74a12a09",
   "metadata": {},
   "source": [
    "4. Write a Python program to print all happy numbers between 1 and 100?\n"
   ]
  },
  {
   "cell_type": "code",
   "execution_count": 451,
   "id": "38de3c52",
   "metadata": {},
   "outputs": [
    {
     "name": "stdout",
     "output_type": "stream",
     "text": [
      "The Happy Numbers between 0 and 100 are [1, 7, 10, 13, 19, 23, 28, 31, 32, 44, 49, 68, 70, 79, 82, 86, 91, 94, 97, 100]\n"
     ]
    }
   ],
   "source": [
    "def checkHappyNumber(start=0,end=100):\n",
    "    happyNumbersList = []\n",
    "    for in_num in range(start,end+1):\n",
    "        in_num = str(in_num)\n",
    "        inum_holder = in_num\n",
    "        trackNumber = set()   \n",
    "        while True:\n",
    "            if in_num != '1' and str(in_num) not in trackNumber:\n",
    "                trackNumber.add(in_num)\n",
    "                sum = 0\n",
    "                for ele in range(len((in_num))):\n",
    "                    sum = sum + int(in_num[ele])**2\n",
    "                in_num = str(sum)\n",
    "            elif str(in_num) in trackNumber:\n",
    "                break\n",
    "            else:\n",
    "                happyNumbersList.append(int(inum_holder))\n",
    "                break\n",
    "    print(f'The Happy Numbers between {start} and {end} are {happyNumbersList}')\n",
    "    \n",
    "checkHappyNumber(0,100)"
   ]
  },
  {
   "cell_type": "markdown",
   "id": "0f4e62a4",
   "metadata": {},
   "source": [
    "5. Write a Python program to determine whether the given number is a Harshad Number?\n"
   ]
  },
  {
   "cell_type": "code",
   "execution_count": 454,
   "id": "8b8463ab",
   "metadata": {},
   "outputs": [
    {
     "name": "stdout",
     "output_type": "stream",
     "text": [
      "Enter a Number: 2\n",
      "2 is a Harshad Number\n",
      "Enter a Number: 25\n",
      "25 is a Not Harshad Number\n"
     ]
    }
   ],
   "source": [
    "def checkHarshadNumber():\n",
    "    in_num = input('Enter a Number: ')\n",
    "    sum = 0\n",
    "    for item in range(len(in_num)):\n",
    "        sum = sum + int(in_num[item])\n",
    "    if int(in_num)%sum == 0:\n",
    "        print(f'{in_num} is a Harshad Number')\n",
    "    else:\n",
    "        print(f'{in_num} is a Not Harshad Number')\n",
    "        \n",
    "checkHarshadNumber()\n",
    "checkHarshadNumber()"
   ]
  },
  {
   "cell_type": "markdown",
   "id": "4770ae08",
   "metadata": {},
   "source": [
    "6. Write a Python program to print all pronic numbers between 1 and 100?"
   ]
  },
  {
   "cell_type": "code",
   "execution_count": 455,
   "id": "d3f9e850",
   "metadata": {},
   "outputs": [
    {
     "name": "stdout",
     "output_type": "stream",
     "text": [
      "[0, 2, 6, 12, 20, 30, 42, 56, 72, 90, 110, 132, 156, 182, 210, 240, 272, 306, 342, 380, 420, 462, 506, 552, 600, 650, 702, 756, 812, 870, 930, 992, 1056, 1122, 1190, 1260, 1332, 1406, 1482, 1560, 1640, 1722, 1806, 1892, 1980, 2070, 2162, 2256, 2352, 2450, 2550, 2652, 2756, 2862, 2970, 3080, 3192, 3306, 3422, 3540, 3660, 3782, 3906, 4032, 4160, 4290, 4422, 4556, 4692, 4830, 4970, 5112, 5256, 5402, 5550, 5700, 5852, 6006, 6162, 6320, 6480, 6642, 6806, 6972, 7140, 7310, 7482, 7656, 7832, 8010, 8190, 8372, 8556, 8742, 8930, 9120, 9312, 9506, 9702, 9900, 10100]\n"
     ]
    }
   ],
   "source": [
    "\n",
    "def printPronicNumbers(start=0,end=100):\n",
    "    outputList = []\n",
    "    for ele in range(start,end+1):\n",
    "        outputList.append((ele)*(ele+1))\n",
    "    print(outputList)\n",
    "                   \n",
    "printPronicNumbers()"
   ]
  }
 ],
 "metadata": {
  "kernelspec": {
   "display_name": "Python 3",
   "language": "python",
   "name": "python3"
  },
  "language_info": {
   "codemirror_mode": {
    "name": "ipython",
    "version": 3
   },
   "file_extension": ".py",
   "mimetype": "text/x-python",
   "name": "python",
   "nbconvert_exporter": "python",
   "pygments_lexer": "ipython3",
   "version": "3.8.5"
  }
 },
 "nbformat": 4,
 "nbformat_minor": 5
}
