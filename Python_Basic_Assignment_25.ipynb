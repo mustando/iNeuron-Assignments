{
 "cells": [
  {
   "cell_type": "markdown",
   "id": "45d92de6",
   "metadata": {},
   "source": [
    "1) . What is the difference between enclosing a list comprehension in square brackets and\n",
    "parentheses?\n"
   ]
  },
  {
   "cell_type": "code",
   "execution_count": 9,
   "id": "18adf874",
   "metadata": {},
   "outputs": [
    {
     "name": "stdout",
     "output_type": "stream",
     "text": [
      "[0, 1, 2, 3, 4, 5, 6, 7, 8, 9] <class 'list'>\n",
      "<generator object <genexpr> at 0x000001C5B8DCBA50> <class 'generator'>\n"
     ]
    }
   ],
   "source": [
    "l = [ele for ele in range(10)]\n",
    "print(l, type(l))\n",
    "g = (ele for ele in range(10))\n",
    "print(g, type(g))"
   ]
  },
  {
   "cell_type": "markdown",
   "id": "6c2f8f6b",
   "metadata": {},
   "source": [
    "2) What is the relationship between generators and iterators?\n"
   ]
  },
  {
   "cell_type": "markdown",
   "id": "a8a630b4",
   "metadata": {},
   "source": [
    " An iterator is an object which contains a countable number of values and it is used to iterate over iterable objects like list, tuples, sets, etc. Iterators are implemented using a class. It follows lazy evaluation where the evaluation of the expression will be on hold and stored in the memory until the item is called specifically which helps us to avoid repeated evaluation. "
   ]
  },
  {
   "cell_type": "markdown",
   "id": "2702eebf",
   "metadata": {},
   "source": [
    "Similarly Generators are an another way of creating iterators in a simple way where it uses the keyword yield statement instead of return statement in a defined function.Generators are implemented using a function. Just as iterators, generators also follow lazy evaluation"
   ]
  },
  {
   "cell_type": "markdown",
   "id": "486b7d6b",
   "metadata": {},
   "source": [
    "3) What are the signs that a function is a generator function?\n"
   ]
  },
  {
   "cell_type": "markdown",
   "id": "6eafdad7",
   "metadata": {},
   "source": [
    "A generator function uses a yield statement instead of a return statement. A generator function will always return a iterable object called generator. "
   ]
  },
  {
   "cell_type": "markdown",
   "id": "942120de",
   "metadata": {},
   "source": [
    "4) What is the purpose of a yield statement"
   ]
  },
  {
   "cell_type": "markdown",
   "id": "fda662ce",
   "metadata": {},
   "source": [
    "The yield statement suspends function’s execution and sends a value back to the caller, but retains enough state to enable function to resume where it is left off. When resumed, the function continues execution immediately after the last yield run. This allows its code to produce a series of values over time, rather than computing them at once and sending them back like a list."
   ]
  },
  {
   "cell_type": "markdown",
   "id": "0cdb44eb",
   "metadata": {},
   "source": [
    "5) What is the relationship between map calls and list comprehensions? Make a comparison and\n",
    "contrast between the two."
   ]
  },
  {
   "cell_type": "markdown",
   "id": "dc575325",
   "metadata": {},
   "source": [
    " The main differences between map calls and list comprehensiosn are:\n",
    "\n",
    "List comprehension is more concise and easier to read as compared to map.\n",
    "List comprehension allows filtering. In map, we have no such facility. For example, to print all odd numbers in range of 50, we can write [n for n in range(50) if n%2 != 0]. There is no alternate for it in map"
   ]
  },
  {
   "cell_type": "markdown",
   "id": "2b593532",
   "metadata": {},
   "source": [
    "List comprehension is faster than map when we need to evaluate expressions that are too long or complicated to .\n",
    "Map is faster in case of calling an already defined function on a set of values."
   ]
  }
 ],
 "metadata": {
  "kernelspec": {
   "display_name": "Python 3",
   "language": "python",
   "name": "python3"
  },
  "language_info": {
   "codemirror_mode": {
    "name": "ipython",
    "version": 3
   },
   "file_extension": ".py",
   "mimetype": "text/x-python",
   "name": "python",
   "nbconvert_exporter": "python",
   "pygments_lexer": "ipython3",
   "version": "3.8.5"
  }
 },
 "nbformat": 4,
 "nbformat_minor": 5
}
