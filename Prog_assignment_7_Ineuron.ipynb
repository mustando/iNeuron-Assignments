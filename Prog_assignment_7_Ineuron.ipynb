{
 "cells": [
  {
   "cell_type": "markdown",
   "id": "a08da762",
   "metadata": {},
   "source": [
    "1. Write a Python Program to find sum of array?"
   ]
  },
  {
   "cell_type": "code",
   "execution_count": 3,
   "id": "09133722",
   "metadata": {},
   "outputs": [],
   "source": [
    "import numpy as np"
   ]
  },
  {
   "cell_type": "code",
   "execution_count": 44,
   "id": "4d56238d",
   "metadata": {
    "scrolled": true
   },
   "outputs": [
    {
     "name": "stdout",
     "output_type": "stream",
     "text": [
      "Enter the Array: [1,2,3,4]\n",
      "sum of array is 10\n"
     ]
    }
   ],
   "source": [
    "arr = eval(input(\"Enter the Array: \"))\n",
    "print(\"sum of array is\", sum(arr) )"
   ]
  },
  {
   "cell_type": "markdown",
   "id": "b9f5e767",
   "metadata": {},
   "source": [
    "2. Write a Python Program to find largest element in an array?"
   ]
  },
  {
   "cell_type": "code",
   "execution_count": 45,
   "id": "d6a62a0e",
   "metadata": {},
   "outputs": [
    {
     "name": "stdout",
     "output_type": "stream",
     "text": [
      "Enter the Array: [1,2,3,4,598]\n",
      "max of array is 598\n"
     ]
    }
   ],
   "source": [
    "arr = eval(input(\"Enter the Array: \"))\n",
    "print(\"max of array is\", max(arr) )"
   ]
  },
  {
   "cell_type": "markdown",
   "id": "aa5d4c36",
   "metadata": {},
   "source": [
    "3. Write a Python Program for array rotation?"
   ]
  },
  {
   "cell_type": "code",
   "execution_count": 49,
   "id": "63c1e443",
   "metadata": {},
   "outputs": [
    {
     "name": "stdout",
     "output_type": "stream",
     "text": [
      "Enter the Array: [1,2,3,4,5,6,7,8]\n",
      "reverse of array is [8, 7, 6, 5, 4, 3, 2, 1]\n"
     ]
    }
   ],
   "source": [
    "arr = eval(input(\"Enter the Array: \"))\n",
    "print(\"reverse of array is\", arr[::-1])"
   ]
  },
  {
   "cell_type": "markdown",
   "id": "3cba7be9",
   "metadata": {},
   "source": [
    "4. Write a Python Program to Split the array and add the first part to the end?"
   ]
  },
  {
   "cell_type": "code",
   "execution_count": 53,
   "id": "fa5b6e40",
   "metadata": {},
   "outputs": [
    {
     "name": "stdout",
     "output_type": "stream",
     "text": [
      "Enter the Array: [1,2,3,4,5,6,7,8]\n",
      "sum of first and last element of array is 9\n"
     ]
    }
   ],
   "source": [
    "arr = eval(input(\"Enter the Array: \"))\n",
    "print(\"sum of first and last element of array is\", (arr[0]+arr[-1]))"
   ]
  },
  {
   "cell_type": "markdown",
   "id": "2c7ed4fd",
   "metadata": {},
   "source": [
    "5. Write a Python Program to check if given array is Monotonic?"
   ]
  },
  {
   "cell_type": "code",
   "execution_count": 59,
   "id": "9eba21eb",
   "metadata": {},
   "outputs": [
    {
     "name": "stdout",
     "output_type": "stream",
     "text": [
      "Enter the Array: [1,2,3,4,5,6,7,8]\n",
      "Array [1, 2, 3, 4, 5, 6, 7, 8] is Monotonic\n"
     ]
    }
   ],
   "source": [
    "def mono(arr):\n",
    "    arr = eval(input(\"Enter the Array: \"))\n",
    "    if(all(arr[i]<=arr[i+1] for i in range(len(arr)-1)) or all(arr[i]>=arr[i+1] for i in range(len(arr)-1))):\n",
    "        print(f'Array {arr} is Monotonic')\n",
    "    else:\n",
    "        print(f'Array {arr} is Not Monotonic')\n",
    "\n",
    "mono(arr)\n"
   ]
  },
  {
   "cell_type": "code",
   "execution_count": 60,
   "id": "6eb0d830",
   "metadata": {},
   "outputs": [
    {
     "name": "stdout",
     "output_type": "stream",
     "text": [
      "Enter the Array: [1,2,3,4,5,4,3,2,1]\n",
      "Array [1, 2, 3, 4, 5, 4, 3, 2, 1] is Not Monotonic\n"
     ]
    }
   ],
   "source": [
    "mono(arr)"
   ]
  }
 ],
 "metadata": {
  "kernelspec": {
   "display_name": "Python 3",
   "language": "python",
   "name": "python3"
  },
  "language_info": {
   "codemirror_mode": {
    "name": "ipython",
    "version": 3
   },
   "file_extension": ".py",
   "mimetype": "text/x-python",
   "name": "python",
   "nbconvert_exporter": "python",
   "pygments_lexer": "ipython3",
   "version": "3.8.5"
  }
 },
 "nbformat": 4,
 "nbformat_minor": 5
}
