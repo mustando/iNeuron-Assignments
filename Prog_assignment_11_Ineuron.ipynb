{
 "cells": [
  {
   "cell_type": "markdown",
   "id": "ada1285e",
   "metadata": {},
   "source": [
    "1. Write a Python program to find words which are greater than given length k?\n"
   ]
  },
  {
   "cell_type": "code",
   "execution_count": 20,
   "id": "e47f5443",
   "metadata": {},
   "outputs": [
    {
     "name": "stdout",
     "output_type": "stream",
     "text": [
      "Enter Value of k 4\n"
     ]
    }
   ],
   "source": [
    "k= int(input(\"Enter Value of k \"))"
   ]
  },
  {
   "cell_type": "code",
   "execution_count": 21,
   "id": "d78b3614",
   "metadata": {
    "scrolled": true
   },
   "outputs": [
    {
     "name": "stdout",
     "output_type": "stream",
     "text": [
      "anthony\n",
      "gonsalves\n"
     ]
    }
   ],
   "source": [
    "sentence=\"my name is anthony gonsalves\"\n",
    "words=sentence.split()\n",
    "words\n",
    "for i in words:\n",
    "    if len(i)>k:\n",
    "        print(i)"
   ]
  },
  {
   "cell_type": "markdown",
   "id": "3c20ddc2",
   "metadata": {},
   "source": [
    "2. Write a Python program for removing i-th character from a string?\n"
   ]
  },
  {
   "cell_type": "code",
   "execution_count": 35,
   "id": "833fb47a",
   "metadata": {},
   "outputs": [
    {
     "name": "stdout",
     "output_type": "stream",
     "text": [
      "Enter Value of ith character 11\n"
     ]
    }
   ],
   "source": [
    "k= int(input(\"Enter Value of ith character \"))"
   ]
  },
  {
   "cell_type": "code",
   "execution_count": 36,
   "id": "726bdbca",
   "metadata": {},
   "outputs": [
    {
     "data": {
      "text/plain": [
       "'a'"
      ]
     },
     "execution_count": 36,
     "metadata": {},
     "output_type": "execute_result"
    }
   ],
   "source": [
    "sentence=\"my name is anthony gonsalves\"\n",
    "sent_list=list(sentence)\n",
    "sent_list.pop(k)"
   ]
  },
  {
   "cell_type": "markdown",
   "id": "3120bf26",
   "metadata": {},
   "source": [
    "3. Write a Python program to split and join a string?\n"
   ]
  },
  {
   "cell_type": "code",
   "execution_count": 39,
   "id": "716c0520",
   "metadata": {},
   "outputs": [
    {
     "data": {
      "text/plain": [
       "'my name is anthony gonsalves'"
      ]
     },
     "execution_count": 39,
     "metadata": {},
     "output_type": "execute_result"
    }
   ],
   "source": [
    "sentence=\"my name is anthony gonsalves\"\n",
    "sentence.split()\n",
    "sentence.join('')\n",
    "sentence"
   ]
  },
  {
   "cell_type": "markdown",
   "id": "4f5a32f3",
   "metadata": {},
   "source": [
    "4. Write a Python to check if a given string is binary string or not?\n"
   ]
  },
  {
   "cell_type": "code",
   "execution_count": 46,
   "id": "97106bdc",
   "metadata": {},
   "outputs": [
    {
     "name": "stdout",
     "output_type": "stream",
     "text": [
      "Given string is a binary string\n"
     ]
    }
   ],
   "source": [
    "string=\"010001101\"\n",
    "check_temp={'0','1'}\n",
    "check_string=set(string)\n",
    "if check_string==check_temp or check_string=={'0'} or check_string=={'1'}:\n",
    "    print(\"Given string is a binary string\")\n",
    "else:\n",
    "    print(\"Given string is NOT a binary string\")"
   ]
  },
  {
   "cell_type": "code",
   "execution_count": 47,
   "id": "e789451b",
   "metadata": {},
   "outputs": [
    {
     "name": "stdout",
     "output_type": "stream",
     "text": [
      "Given string is NOT a binary string\n"
     ]
    }
   ],
   "source": [
    "string=\"010001101aaaaa\"\n",
    "check_temp={'0','1'}\n",
    "check_string=set(string)\n",
    "if check_string==check_temp or check_string=={'0'} or check_string=={'1'}:\n",
    "    print(\"Given string is a binary string\")\n",
    "else:\n",
    "    print(\"Given string is NOT a binary string\")"
   ]
  },
  {
   "cell_type": "markdown",
   "id": "6e1e3b1c",
   "metadata": {},
   "source": [
    "5. Write a Python program to find uncommon words from two Strings?\n"
   ]
  },
  {
   "cell_type": "code",
   "execution_count": 73,
   "id": "acdf7b56",
   "metadata": {},
   "outputs": [
    {
     "data": {
      "text/plain": [
       "{'Mary', 'Mohammed', 'Not'}"
      ]
     },
     "execution_count": 73,
     "metadata": {},
     "output_type": "execute_result"
    }
   ],
   "source": [
    "string1=\"My name is Mary Anthony Gonsalvbessa\"\n",
    "string2=\"My name is Not Anthony Gonsalvbessa Mohammed\"\n",
    "st1=string1.split()\n",
    "st2=string2.split()\n",
    "set(st1) ^ set(st2) #XOR operation\n",
    "\n"
   ]
  },
  {
   "cell_type": "markdown",
   "id": "dde5c4c7",
   "metadata": {},
   "source": [
    "6. Write a Python to find all duplicate characters in string?\n"
   ]
  },
  {
   "cell_type": "code",
   "execution_count": 105,
   "id": "aa2215e0",
   "metadata": {},
   "outputs": [
    {
     "name": "stdout",
     "output_type": "stream",
     "text": [
      "1\n",
      "1\n",
      "1\n",
      "1\n",
      "1\n"
     ]
    }
   ],
   "source": [
    "string=\"my naaame is anthony gonaslaves\"\n",
    "set(string.split())\n",
    "for char in set(string.split()):\n",
    "    print(string.count(char))"
   ]
  },
  {
   "cell_type": "code",
   "execution_count": 118,
   "id": "43510005",
   "metadata": {},
   "outputs": [
    {
     "name": "stdout",
     "output_type": "stream",
     "text": [
      "[('o', 2), ('a', 6), ('s', 3), ('e', 2), ('y', 2), ('m', 2), ('n', 4)]\n"
     ]
    }
   ],
   "source": [
    "l=[]\n",
    "string=\"my naaame is anthony gonaslaves\"\n",
    "for char in set(string):\n",
    "    counts=string.count(char)\n",
    "    #print(counts)\n",
    "    #print(char)\n",
    "    if counts>1 and char!=' ':\n",
    "        l.append((char,counts))\n",
    "        \n",
    "print(l)"
   ]
  },
  {
   "cell_type": "markdown",
   "id": "71853e22",
   "metadata": {},
   "source": [
    "7. Write a Python Program to check if a string contains any special character?"
   ]
  },
  {
   "cell_type": "code",
   "execution_count": 158,
   "id": "790eb9db",
   "metadata": {},
   "outputs": [],
   "source": [
    "import string\n",
    "special_chars = string.punctuation\n",
    "check_string=\"i@neuron azsda\"\n"
   ]
  },
  {
   "cell_type": "code",
   "execution_count": 159,
   "id": "ec8e9572",
   "metadata": {},
   "outputs": [
    {
     "name": "stdout",
     "output_type": "stream",
     "text": [
      "Valid\n"
     ]
    }
   ],
   "source": [
    "bools = list(map(lambda char: char in special_chars, check_string))\n",
    "print(\"Valid\") if any(bools) else print(\"Invalid\")"
   ]
  }
 ],
 "metadata": {
  "kernelspec": {
   "display_name": "Python 3",
   "language": "python",
   "name": "python3"
  },
  "language_info": {
   "codemirror_mode": {
    "name": "ipython",
    "version": 3
   },
   "file_extension": ".py",
   "mimetype": "text/x-python",
   "name": "python",
   "nbconvert_exporter": "python",
   "pygments_lexer": "ipython3",
   "version": "3.8.5"
  }
 },
 "nbformat": 4,
 "nbformat_minor": 5
}
