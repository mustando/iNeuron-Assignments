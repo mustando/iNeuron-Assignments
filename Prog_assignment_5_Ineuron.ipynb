{
 "cells": [
  {
   "cell_type": "markdown",
   "metadata": {},
   "source": [
    "# 1.\tWrite a Python Program to Find LCM?\n",
    "\n"
   ]
  },
  {
   "cell_type": "code",
   "execution_count": 2,
   "metadata": {},
   "outputs": [
    {
     "name": "stdout",
     "output_type": "stream",
     "text": [
      "Enter number 1: 54\n",
      "Enter number 2: 24\n",
      "216\n"
     ]
    }
   ],
   "source": [
    "num1=int(input(\"Enter number 1: \"))\n",
    "num2=int(input(\"Enter number 2: \"))\n",
    "if num1>num2:\n",
    "    greater=num1\n",
    "else:\n",
    "    greater=num2\n",
    "while True:\n",
    "    if (greater % num1==0) and (greater % num2==0):\n",
    "        lcm = greater\n",
    "        break\n",
    "    greater+=1\n",
    "print(lcm)"
   ]
  },
  {
   "cell_type": "markdown",
   "metadata": {},
   "source": [
    "# 2.\tWrite a Python Program to Find HCF?\n"
   ]
  },
  {
   "cell_type": "code",
   "execution_count": 37,
   "metadata": {},
   "outputs": [
    {
     "name": "stdout",
     "output_type": "stream",
     "text": [
      "Enter number 1: 50\n",
      "Enter number 2: 100\n",
      "50\n"
     ]
    }
   ],
   "source": [
    "num1=int(input(\"Enter number 1: \"))\n",
    "num2=int(input(\"Enter number 2: \"))\n",
    "hcf=0\n",
    "if num1<num2:\n",
    "    lower=num1\n",
    "    #print(\"lower = \", lower)\n",
    "else:\n",
    "    lower=num2\n",
    "    #print(\"lower = \", lower)\n",
    "\n",
    "for i in range(1,lower+1):\n",
    "    if ((num1%i==0) and (num2%i==0)):\n",
    "        hcf=i\n",
    "print(hcf)"
   ]
  },
  {
   "cell_type": "markdown",
   "metadata": {},
   "source": [
    "# 3.\tWrite a Python Program to Convert Decimal to Binary, Octal and Hexadecimal?\n"
   ]
  },
  {
   "cell_type": "code",
   "execution_count": 50,
   "metadata": {},
   "outputs": [],
   "source": [
    "def DecimalToBinary(num):\n",
    "        if num >= 1:\n",
    "            DecimalToBinary(num // 2)\n",
    "            print(num % 2)"
   ]
  },
  {
   "cell_type": "code",
   "execution_count": 51,
   "metadata": {},
   "outputs": [
    {
     "name": "stdout",
     "output_type": "stream",
     "text": [
      "1\n",
      "0\n",
      "1\n",
      "0\n"
     ]
    }
   ],
   "source": [
    "DecimalToBinary(10)\n"
   ]
  },
  {
   "cell_type": "code",
   "execution_count": 53,
   "metadata": {},
   "outputs": [
    {
     "name": "stdout",
     "output_type": "stream",
     "text": [
      "^C\n",
      "Note: you may need to restart the kernel to use updated packages.\n"
     ]
    }
   ],
   "source": [
    "pip install \"jupyterlab-kite>=2.0.2\"\n"
   ]
  },
  {
   "cell_type": "code",
   "execution_count": 57,
   "metadata": {},
   "outputs": [
    {
     "name": "stdout",
     "output_type": "stream",
     "text": [
      "Enter Octal Number: 7302\n",
      "\n",
      "Equivalent Hexadecimal Value = 0xec2\n"
     ]
    }
   ],
   "source": [
    "onum= input((\"Enter Octal Number: \"))\n",
    "\n",
    "dnum = int(onum, 8)\n",
    "hnum = hex(dnum)\n",
    "print(\"\\nEquivalent Hexadecimal Value =\", hnum)"
   ]
  },
  {
   "cell_type": "markdown",
   "metadata": {},
   "source": [
    "# 4.\tWrite a Python Program To Find ASCII value of a character?\n",
    "\n",
    "\n",
    "\n",
    "\n",
    "\n",
    "\n",
    "\n",
    "\n",
    "\n",
    "\n",
    "\n",
    "\n",
    "\n"
   ]
  },
  {
   "cell_type": "code",
   "execution_count": 61,
   "metadata": {},
   "outputs": [
    {
     "name": "stdout",
     "output_type": "stream",
     "text": [
      "Enter value A\n",
      "The ASCII value of 'A' is 65\n"
     ]
    }
   ],
   "source": [
    "c = input(\"Enter value \")\n",
    "\n",
    "print(\"The ASCII value of '\" + c + \"' is\", ord(c))"
   ]
  },
  {
   "cell_type": "markdown",
   "metadata": {},
   "source": [
    "# 5.\tWrite a Python Program to Make a Simple Calculator with 4 basic mathematical operations?"
   ]
  },
  {
   "cell_type": "code",
   "execution_count": 64,
   "metadata": {},
   "outputs": [
    {
     "name": "stdout",
     "output_type": "stream",
     "text": [
      "Select operation.\n",
      "1.Add\n",
      "2.Subtract\n",
      "3.Multiply\n",
      "4.Divide\n",
      "Enter choice(1/2/3/4): 4\n",
      "Enter first number: 4\n",
      "Enter second number: 5\n",
      "4.0 / 5.0 = 0.8\n",
      "Let's do next calculation? (yes/no): yes\n",
      "Enter choice(1/2/3/4): 4\n",
      "Enter first number: 1\n",
      "Enter second number: 2\n",
      "1.0 / 2.0 = 0.5\n",
      "Let's do next calculation? (yes/no): ndafad\n",
      "Enter choice(1/2/3/4): sadas\n",
      "Invalid operation \n",
      "Enter choice(1/2/3/4): 3\n",
      "Enter first number: 5\n",
      "Enter second number: 4\n",
      "5.0 * 4.0 = 20.0\n",
      "Let's do next calculation? (yes/no):  o\n",
      "Enter choice(1/2/3/4): \n",
      "Invalid operation \n",
      "Enter choice(1/2/3/4): 4\n",
      "Enter first number: 41\n",
      "Enter second number: 12\n",
      "41.0 / 12.0 = 3.4166666666666665\n",
      "Let's do next calculation? (yes/no): no\n"
     ]
    }
   ],
   "source": [
    "def add(x, y):\n",
    "    return x + y\n",
    "\n",
    "def subtract(x, y):\n",
    "    return x - y\n",
    "\n",
    "def multiply(x, y):\n",
    "    return x * y\n",
    "\n",
    "def divide(x, y):\n",
    "    return x / y\n",
    "\n",
    "\n",
    "print(\"Select operation.\")\n",
    "print(\"1.Add\")\n",
    "print(\"2.Subtract\")\n",
    "print(\"3.Multiply\")\n",
    "print(\"4.Divide\")\n",
    "\n",
    "while True:\n",
    "    # take input from the user\n",
    "    choice = input(\"Enter choice(1/2/3/4): \")\n",
    "\n",
    "    # check if choice is one of the four options\n",
    "    if choice in ('1', '2', '3', '4'):\n",
    "        num1 = float(input(\"Enter first number: \"))\n",
    "        num2 = float(input(\"Enter second number: \"))\n",
    "\n",
    "        if choice == '1':\n",
    "            print(num1, \"+\", num2, \"=\", add(num1, num2))\n",
    "\n",
    "        elif choice == '2':\n",
    "            print(num1, \"-\", num2, \"=\", subtract(num1, num2))\n",
    "\n",
    "        elif choice == '3':\n",
    "            print(num1, \"*\", num2, \"=\", multiply(num1, num2))\n",
    "\n",
    "        elif choice == '4':\n",
    "            print(num1, \"/\", num2, \"=\", divide(num1, num2))\n",
    "        \n",
    "        # check if user wants another calculation\n",
    "        # break the while loop if answer is no\n",
    "        next_calculation = input(\"Let's do next calculation? (yes/no): \")\n",
    "        if next_calculation == \"no\":\n",
    "            break\n",
    "    \n",
    "    else:\n",
    "         print(\"Invalid operation \")"
   ]
  }
 ],
 "metadata": {
  "kernelspec": {
   "display_name": "Python 3",
   "language": "python",
   "name": "python3"
  },
  "language_info": {
   "codemirror_mode": {
    "name": "ipython",
    "version": 3
   },
   "file_extension": ".py",
   "mimetype": "text/x-python",
   "name": "python",
   "nbconvert_exporter": "python",
   "pygments_lexer": "ipython3",
   "version": "3.8.5"
  }
 },
 "nbformat": 4,
 "nbformat_minor": 4
}
