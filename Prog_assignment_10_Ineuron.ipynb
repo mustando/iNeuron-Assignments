{
 "cells": [
  {
   "cell_type": "markdown",
   "id": "556a3f53",
   "metadata": {},
   "source": [
    "1. Write a Python program to find sum of elements in list?\n"
   ]
  },
  {
   "cell_type": "code",
   "execution_count": 81,
   "id": "2c578cf6",
   "metadata": {
    "scrolled": true
   },
   "outputs": [
    {
     "name": "stdout",
     "output_type": "stream",
     "text": [
      "Enter size of list 5\n"
     ]
    }
   ],
   "source": [
    "ele = int(input(\"Enter size of list \"))"
   ]
  },
  {
   "cell_type": "code",
   "execution_count": 82,
   "id": "45568d33",
   "metadata": {},
   "outputs": [
    {
     "name": "stdout",
     "output_type": "stream",
     "text": [
      "Enter Elements in a list 1\n",
      "Enter Elements in a list 2\n",
      "Enter Elements in a list 3\n",
      "Enter Elements in a list 4\n",
      "Enter Elements in a list 5\n"
     ]
    },
    {
     "data": {
      "text/plain": [
       "15"
      ]
     },
     "execution_count": 82,
     "metadata": {},
     "output_type": "execute_result"
    }
   ],
   "source": [
    "lst=[]\n",
    "i=1\n",
    "while i<=ele:\n",
    "    lst.append(int(input(\"Enter Elements in a list \")))\n",
    "    i+=1\n",
    "lst\n",
    "sum(lst)"
   ]
  },
  {
   "cell_type": "markdown",
   "id": "a3643bea",
   "metadata": {},
   "source": [
    "2. Write a Python program to Multiply all numbers in the list?\n"
   ]
  },
  {
   "cell_type": "code",
   "execution_count": 83,
   "id": "b2647da1",
   "metadata": {},
   "outputs": [],
   "source": [
    "from functools import reduce"
   ]
  },
  {
   "cell_type": "code",
   "execution_count": 84,
   "id": "f80c1bca",
   "metadata": {},
   "outputs": [
    {
     "name": "stdout",
     "output_type": "stream",
     "text": [
      "Enter size of list 5\n",
      "Enter Elements in a list 1\n",
      "Enter Elements in a list 2\n",
      "Enter Elements in a list 3\n",
      "Enter Elements in a list 4\n",
      "Enter Elements in a list 5\n",
      "[1, 2, 3, 4, 5]\n",
      "Product is  120\n"
     ]
    }
   ],
   "source": [
    "ele = int(input(\"Enter size of list \"))\n",
    "lst=[]\n",
    "i=1\n",
    "while i<=ele:\n",
    "    lst.append(int(input(\"Enter Elements in a list \")))\n",
    "    i+=1\n",
    "print(lst)\n",
    "def mult(a,b):\n",
    "    return a*b\n",
    "product= reduce(mult,lst)\n",
    "print(\"Product is \",product) "
   ]
  },
  {
   "cell_type": "markdown",
   "id": "6b72f0de",
   "metadata": {},
   "source": [
    "3. Write a Python program to find smallest number in a list?\n"
   ]
  },
  {
   "cell_type": "code",
   "execution_count": 85,
   "id": "b1bf39b4",
   "metadata": {},
   "outputs": [
    {
     "name": "stdout",
     "output_type": "stream",
     "text": [
      "Enter size of list 5\n",
      "Enter Elements in a list 1\n",
      "Enter Elements in a list 2\n",
      "Enter Elements in a list 3\n",
      "Enter Elements in a list 6\n",
      "Enter Elements in a list 5\n",
      "[1, 2, 3, 6, 5]\n",
      "Smallest value  1\n"
     ]
    }
   ],
   "source": [
    "ele = int(input(\"Enter size of list \"))\n",
    "lst=[]\n",
    "i=1\n",
    "while i<=ele:\n",
    "    lst.append(int(input(\"Enter Elements in a list \")))\n",
    "    i+=1\n",
    "print(lst)\n",
    "print(\"Smallest value \",min(lst))"
   ]
  },
  {
   "cell_type": "markdown",
   "id": "59d489cc",
   "metadata": {},
   "source": [
    "4. Write a Python program to find largest number in a list?\n"
   ]
  },
  {
   "cell_type": "code",
   "execution_count": 86,
   "id": "355ddcc6",
   "metadata": {},
   "outputs": [
    {
     "name": "stdout",
     "output_type": "stream",
     "text": [
      "Enter size of list 5\n",
      "Enter Elements in a list 69\n",
      "Enter Elements in a list 86\n",
      "Enter Elements in a list 45\n",
      "Enter Elements in a list 100\n",
      "Enter Elements in a list 5\n",
      "[69, 86, 45, 100, 5]\n",
      "Largest value  100\n"
     ]
    }
   ],
   "source": [
    "ele = int(input(\"Enter size of list \"))\n",
    "lst=[]\n",
    "i=1\n",
    "while i<=ele:\n",
    "    lst.append(int(input(\"Enter Elements in a list \")))\n",
    "    i+=1\n",
    "print(lst)\n",
    "\n",
    "print(\"Largest value \",max(lst))"
   ]
  },
  {
   "cell_type": "markdown",
   "id": "bf25f62d",
   "metadata": {},
   "source": [
    "5. Write a Python program to find second largest number in a list?"
   ]
  },
  {
   "cell_type": "code",
   "execution_count": 92,
   "id": "c09046ce",
   "metadata": {},
   "outputs": [],
   "source": [
    "from collections import OrderedDict"
   ]
  },
  {
   "cell_type": "code",
   "execution_count": 94,
   "id": "aa70e840",
   "metadata": {},
   "outputs": [
    {
     "name": "stdout",
     "output_type": "stream",
     "text": [
      "Enter size of list 5\n",
      "Enter Elements in a list 26\n",
      "Enter Elements in a list 26\n",
      "Enter Elements in a list 25\n",
      "Enter Elements in a list 12\n",
      "Enter Elements in a list 10\n",
      "List is  [26, 26, 25, 12, 10]\n",
      "Sorted List is  [10, 12, 25, 26]\n",
      "Second lasrgest Number is  25\n"
     ]
    }
   ],
   "source": [
    "ele = int(input(\"Enter size of list \"))\n",
    "lst=[]\n",
    "i=1\n",
    "while i<=ele:\n",
    "    lst.append(int(input(\"Enter Elements in a list \")))\n",
    "    i+=1\n",
    "print(\"List is \", lst)\n",
    "lst = list(OrderedDict.fromkeys(lst)) # remove duplicates\n",
    "sort_lst=sorted(lst)\n",
    "print(\"Sorted List is without duplicates \", sort_lst)\n",
    "print(\"Second lasrgest Number is \",sort_lst[-2])"
   ]
  },
  {
   "cell_type": "markdown",
   "id": "fc929f9c",
   "metadata": {},
   "source": [
    "6. Write a Python program to find N largest elements from a list?\n"
   ]
  },
  {
   "cell_type": "code",
   "execution_count": 96,
   "id": "7ca1a813",
   "metadata": {},
   "outputs": [
    {
     "name": "stdout",
     "output_type": "stream",
     "text": [
      "Enter size of list 5\n",
      "Enter value of N 3\n",
      "Enter Elements in a list 45\n",
      "Enter Elements in a list 45\n",
      "Enter Elements in a list 45\n",
      "Enter Elements in a list 32\n",
      "Enter Elements in a list 32\n",
      "List is  [45, 45, 45, 32, 32]\n",
      "Sorted List is  [45, 45, 45, 32, 32]\n",
      "N largest Number are  [45, 45, 45]\n"
     ]
    }
   ],
   "source": [
    "ele = int(input(\"Enter size of list \"))\n",
    "n = int(input(\"Enter value of N \"))\n",
    "lst=[]\n",
    "i=1\n",
    "while i<=ele:\n",
    "    lst.append(int(input(\"Enter Elements in a list \")))\n",
    "    i+=1\n",
    "print(\"List is \", lst)\n",
    "\n",
    "sort_lst=sorted(lst,reverse=True)\n",
    "print(\"Sorted List is \", sort_lst)\n",
    "print(\"N largest Number are \",sort_lst[0:n])"
   ]
  },
  {
   "cell_type": "markdown",
   "id": "e60cfa11",
   "metadata": {},
   "source": [
    "7. Write a Python program to print even numbers in a list?\n"
   ]
  },
  {
   "cell_type": "code",
   "execution_count": 97,
   "id": "cae09572",
   "metadata": {},
   "outputs": [
    {
     "name": "stdout",
     "output_type": "stream",
     "text": [
      "Enter size of list 5\n",
      "Enter Elements in a list 2\n",
      "Enter Elements in a list 12\n",
      "Enter Elements in a list 31\n",
      "Enter Elements in a list 65\n",
      "Enter Elements in a list 72\n",
      "List is  [2, 12, 31, 65, 72]\n",
      "Even elements in list are  [2, 12, 72]\n"
     ]
    }
   ],
   "source": [
    "ele = int(input(\"Enter size of list \"))\n",
    "\n",
    "lst=[]\n",
    "i=1\n",
    "while i<=ele:\n",
    "    lst.append(int(input(\"Enter Elements in a list \")))\n",
    "    i+=1\n",
    "print(\"List is \", lst)\n",
    "\n",
    "even_lst=list(filter(lambda x: x%2==0, lst))\n",
    "print(\"Even elements in list are \", even_lst)"
   ]
  },
  {
   "cell_type": "markdown",
   "id": "2b77bb05",
   "metadata": {},
   "source": [
    "8. Write a Python program to print odd numbers in a List?\n"
   ]
  },
  {
   "cell_type": "code",
   "execution_count": 98,
   "id": "949a0560",
   "metadata": {},
   "outputs": [
    {
     "name": "stdout",
     "output_type": "stream",
     "text": [
      "Enter size of list 5\n",
      "Enter Elements in a list 65\n",
      "Enter Elements in a list 98\n",
      "Enter Elements in a list 77\n",
      "Enter Elements in a list 11\n",
      "Enter Elements in a list 10\n",
      "List is  [65, 98, 77, 11, 10]\n",
      "ODD elements in list are  [65, 77, 11]\n"
     ]
    }
   ],
   "source": [
    "ele = int(input(\"Enter size of list \"))\n",
    "\n",
    "lst=[]\n",
    "i=1\n",
    "while i<=ele:\n",
    "    lst.append(int(input(\"Enter Elements in a list \")))\n",
    "    i+=1\n",
    "print(\"List is \", lst)\n",
    "\n",
    "odd_lst=list(filter(lambda x: x%2!=0, lst))\n",
    "print(\"ODD elements in list are \", odd_lst)"
   ]
  },
  {
   "cell_type": "markdown",
   "id": "ee138f14",
   "metadata": {},
   "source": [
    "9. Write a Python program to Remove empty List from List?\n"
   ]
  },
  {
   "cell_type": "code",
   "execution_count": 100,
   "id": "7ca97621",
   "metadata": {},
   "outputs": [
    {
     "name": "stdout",
     "output_type": "stream",
     "text": [
      "There is an Empty list in [[], [11], 12, 4, 56, 7, [], 7, []] at Position 0\n",
      "There is an Empty list in [[11], 12, 4, 56, 7, [], 7, []] at Position 5\n",
      "There is an Empty list in [[11], 12, 4, 56, 7, 7, []] at Position 6\n",
      "List is  [[11], 12, 4, 56, 7, 7]\n"
     ]
    }
   ],
   "source": [
    "lst=[[],[11],12,4,56,7,[],7,[]]\n",
    "i=0\n",
    "while i<len(lst)+1:\n",
    "    if [] in lst:\n",
    "            print(f'There is an Empty list in {lst} at Position {lst.index([])}')\n",
    "            lst.remove([])\n",
    "            i+=1\n",
    "            \n",
    "    else:\n",
    "        print(\"List is \",lst)\n",
    "        break"
   ]
  },
  {
   "cell_type": "markdown",
   "id": "002ff9a9",
   "metadata": {},
   "source": [
    "10. Write a Python program to Cloning or Copying a list?\n"
   ]
  },
  {
   "cell_type": "code",
   "execution_count": 101,
   "id": "c4863c5c",
   "metadata": {},
   "outputs": [
    {
     "name": "stdout",
     "output_type": "stream",
     "text": [
      "[[11], 12, 4, 56, 7, 7] 2850688584704\n",
      "[[11], 12, 4, 56, 7, 7] 2850688537408\n"
     ]
    }
   ],
   "source": [
    "print(lst, id(lst))\n",
    "cloned_list = lst.copy()\n",
    "print(cloned_list, id(cloned_list))\n",
    "\n"
   ]
  },
  {
   "cell_type": "markdown",
   "id": "f44732ff",
   "metadata": {},
   "source": [
    "11. Write a Python program to Count occurrences of an element in a list?"
   ]
  },
  {
   "cell_type": "code",
   "execution_count": 103,
   "id": "9a5b0560",
   "metadata": {},
   "outputs": [
    {
     "data": {
      "text/plain": [
       "2"
      ]
     },
     "execution_count": 103,
     "metadata": {},
     "output_type": "execute_result"
    }
   ],
   "source": [
    "lst.count(7)"
   ]
  }
 ],
 "metadata": {
  "kernelspec": {
   "display_name": "Python 3",
   "language": "python",
   "name": "python3"
  },
  "language_info": {
   "codemirror_mode": {
    "name": "ipython",
    "version": 3
   },
   "file_extension": ".py",
   "mimetype": "text/x-python",
   "name": "python",
   "nbconvert_exporter": "python",
   "pygments_lexer": "ipython3",
   "version": "3.8.5"
  }
 },
 "nbformat": 4,
 "nbformat_minor": 5
}
