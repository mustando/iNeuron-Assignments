{
 "cells": [
  {
   "cell_type": "markdown",
   "id": "c9817861",
   "metadata": {},
   "source": [
    "1.Create a function that takes an integer and returns a list from 1 to the given number, where:\n",
    "1.If the number can be divided evenly by 4, amplify it by 10 (i.e. return 10 times the number).\n",
    "2.If the number cannot be divided evenly by 4, simply return the number.\n",
    "\n",
    "Examples:\n",
    "amplify(4) ➞ [1, 2, 3, 40]\n",
    "amplify(3) ➞ [1, 2, 3]\n",
    "amplify(25) ➞ [1, 2, 3, 40, 5, 6, 7, 80, 9, 10, 11, 120, 13, 14, 15, 160, 17, 18, 19, 200, 21, 22, 23, 240, 25]\n",
    "\n",
    "Notes:\n",
    "1.The given integer will always be equal to or greater than 1.\n",
    "2.Include the number (see example above).\n",
    "3.To perform this problem with its intended purpose, try doing it with list"
   ]
  },
  {
   "cell_type": "code",
   "execution_count": 15,
   "id": "57ea2fea",
   "metadata": {},
   "outputs": [
    {
     "name": "stdout",
     "output_type": "stream",
     "text": [
      "\n",
      " [1, 2, 3, 40]\n",
      " [1, 2, 3]\n",
      " [1, 2, 3, 40, 5, 6, 7, 80, 9, 10, 11, 120, 13, 14, 15, 160, 17, 18, 19, 200, 21, 22, 23, 240, 25]"
     ]
    }
   ],
   "source": [
    "def amplify(num):\n",
    "    ls=[]\n",
    "    for i in range(1,num+1):\n",
    "        if i%4==0:\n",
    "            ls.append(i*10)\n",
    "        else:\n",
    "            ls.append(i)\n",
    "    print('\\n',ls,end='')\n",
    "    \n",
    "amplify(4)\n",
    "amplify(3)\n",
    "amplify(25)"
   ]
  },
  {
   "cell_type": "markdown",
   "id": "84f875c8",
   "metadata": {},
   "source": [
    "2.Create a function that takes a list of numbers and return the number that's unique.\n",
    "Examples:\n",
    "unique([3, 3, 3, 7, 3, 3]) ➞ 7\n",
    "unique([0, 0, 0.77, 0, 0]) ➞ 0.77\n",
    "unique([0, 1, 1, 1, 1, 1, 1, 1]) ➞ 0\n",
    "\n",
    "Notes:\n",
    "Test cases will always have exactly one unique number while all others are the same."
   ]
  },
  {
   "cell_type": "code",
   "execution_count": 26,
   "id": "661a02f8",
   "metadata": {},
   "outputs": [
    {
     "name": "stdout",
     "output_type": "stream",
     "text": [
      "element 7 is Unique\n",
      "element 0.77 is Unique\n",
      "element 0 is Unique\n"
     ]
    }
   ],
   "source": [
    "def uniquefind(ls1):  \n",
    "    for ele in set(ls1):\n",
    "        if ls1.count(ele)<2:\n",
    "            print(\"element\", ele, \"is Unique\")\n",
    "            \n",
    "uniquefind([3, 3, 3, 7, 3, 3])\n",
    "uniquefind([0, 0, 0.77, 0, 0])\n",
    "uniquefind([0, 1, 1, 1, 1, 1, 1, 1])"
   ]
  },
  {
   "cell_type": "markdown",
   "id": "782384f5",
   "metadata": {},
   "source": [
    "3.Your task is to create a Circle constructor that creates a circle with a radius provided by an argument. The circles constructed must have two getters getArea() (PIr^2) and getPerimeter() (2PI*r) which give both respective areas and perimeter (circumference). For help with this class, I have provided you with a Rectangle constructor which you can use as a base example ?\n",
    "Examples:\n",
    "circy = Circle(11)\n",
    "circy.getArea()\n",
    "\n",
    "Should return 380.132711084365\n",
    "circy = Circle(4.44)\n",
    "circy.getPerimeter()\n",
    " Should return 27.897342763877365\n",
    "\n",
    "Notes:\n",
    "Round results up to the nearest integer."
   ]
  },
  {
   "cell_type": "code",
   "execution_count": 28,
   "id": "cfe0f8c6",
   "metadata": {},
   "outputs": [
    {
     "name": "stdout",
     "output_type": "stream",
     "text": [
      "Radius ➞ 380\n",
      "Perimeter ➞ 28\n"
     ]
    }
   ],
   "source": [
    "\n",
    "import math\n",
    "\n",
    "class Circle:\n",
    "    def __init__(self, radius):\n",
    "        self.radius = radius\n",
    "    def getArea(self):\n",
    "        print(f'Radius ➞ {round(math.pi*self.radius*self.radius)}')\n",
    "    def getPerimeter(self):\n",
    "        print(f'Perimeter ➞ {round(2*math.pi*self.radius)}')\n",
    "    \n",
    "circy = Circle(11)\n",
    "circy.getArea()\n",
    "\n",
    "circy = Circle(4.44)\n",
    "circy.getPerimeter()"
   ]
  },
  {
   "cell_type": "markdown",
   "id": "52333683",
   "metadata": {},
   "source": [
    "4.Create a function that takes a list of strings and return a list, sorted from shortest to longest.\n",
    "Examples:\n",
    "sort_by_length([\"Google\", \"Apple\", \"Microsoft\"])\n",
    "➞ [\"Apple\", \"Google\", \"Microsoft\"]\n",
    "sort_by_length([\"Leonardo\", \"Michelangelo\", \"Raphael\", \"Donatello\"])\n",
    "➞ [\"Raphael\", \"Leonardo\", \"Donatello\", \"Michelangelo\"]\n",
    "sort_by_length([\"Turing\", \"Einstein\", \"Jung\"])\n",
    "➞ [\"Jung\", \"Turing\", \"Einstein\"]"
   ]
  },
  {
   "cell_type": "code",
   "execution_count": 30,
   "id": "55276635",
   "metadata": {},
   "outputs": [],
   "source": [
    "def sort_by_length(in_list):\n",
    "    print(sorted(in_list,key=len))"
   ]
  },
  {
   "cell_type": "code",
   "execution_count": 32,
   "id": "f193c916",
   "metadata": {},
   "outputs": [
    {
     "name": "stdout",
     "output_type": "stream",
     "text": [
      "['Apple', 'Google', 'Microsoft']\n",
      "['Raphael', 'Leonardo', 'Donatello', 'Michelangelo']\n",
      "['Jung', 'Turing', 'Einstein']\n"
     ]
    }
   ],
   "source": [
    "sort_by_length([\"Google\", \"Apple\", \"Microsoft\"])\n",
    "sort_by_length([\"Leonardo\", \"Michelangelo\", \"Raphael\", \"Donatello\"])\n",
    "sort_by_length([\"Turing\", \"Einstein\", \"Jung\"])"
   ]
  },
  {
   "cell_type": "markdown",
   "id": "2f6c51ee",
   "metadata": {},
   "source": [
    "5.Create a function that validates whether three given integers form a Pythagorean triplet. The sum of the squares of the two smallest integers must equal the square of the largest number to be validated.\n",
    "Examples:\n",
    "`is_triplet(3, 4, 5) ➞ True\n",
    "\n",
    " 3² + 4² = 25\n",
    " 5² = 25\n",
    "is_triplet(13, 5, 12) ➞ True\n",
    "\n",
    " 5² + 12² = 169\n",
    " 13² = 169\n",
    "is_triplet(1, 2, 3) ➞ False\n",
    " 1² + 2² = 5\n",
    " 3² = 9`\n"
   ]
  },
  {
   "cell_type": "code",
   "execution_count": null,
   "id": "0b9dd932",
   "metadata": {},
   "outputs": [],
   "source": [
    "import functools"
   ]
  },
  {
   "cell_type": "code",
   "execution_count": 88,
   "id": "e333ee53",
   "metadata": {},
   "outputs": [
    {
     "name": "stdout",
     "output_type": "stream",
     "text": [
      "3 4 5 Numbers are Pythagorean\n",
      "13 5 12 Numbers are Pythagorean\n",
      "1 2 3 Numbers are NOT Pythagorean\n"
     ]
    }
   ],
   "source": [
    "def checkpyt(a,b,c):   \n",
    "    ls=[]\n",
    "    ls.append(a)\n",
    "    ls.append(b)\n",
    "    ls.append(c)\n",
    "    max1square=max(ls)**2\n",
    "   # print(max1square)\n",
    "    ls.remove(max(ls))\n",
    "    sumofsquare= functools.reduce(lambda x,y:x**2+y**2, ls)\n",
    "    \n",
    "    if sumofsquare==max1square:\n",
    "        print(a,b,c,\"Numbers are Pythagorean\")\n",
    "    else:\n",
    "        print(a,b,c, \"Numbers are NOT Pythagorean\")\n",
    "        \n",
    "checkpyt(3,4,5) \n",
    "checkpyt(13,5,12)  \n",
    "checkpyt(1,2,3)"
   ]
  }
 ],
 "metadata": {
  "kernelspec": {
   "display_name": "Python 3",
   "language": "python",
   "name": "python3"
  },
  "language_info": {
   "codemirror_mode": {
    "name": "ipython",
    "version": 3
   },
   "file_extension": ".py",
   "mimetype": "text/x-python",
   "name": "python",
   "nbconvert_exporter": "python",
   "pygments_lexer": "ipython3",
   "version": "3.8.5"
  }
 },
 "nbformat": 4,
 "nbformat_minor": 5
}
