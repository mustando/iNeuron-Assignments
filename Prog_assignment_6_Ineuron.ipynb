{
 "cells": [
  {
   "cell_type": "markdown",
   "id": "bb569bca",
   "metadata": {},
   "source": [
    "# 1. Write a Python Program to Display Fibonacci Sequence Using Recursion?\n"
   ]
  },
  {
   "cell_type": "code",
   "execution_count": 69,
   "id": "0e519932",
   "metadata": {},
   "outputs": [
    {
     "name": "stdout",
     "output_type": "stream",
     "text": [
      "Plese enter a positive integer\n"
     ]
    }
   ],
   "source": [
    "def recur_fibo(n):\n",
    "\n",
    "    if n < 0:\n",
    "        print(\"Plese enter a positive integer\")\n",
    "    elif n <= 1:\n",
    "        return int(n)\n",
    "    else:\n",
    "        return(recur_fibo(n-1) + recur_fibo(n-2))\n",
    "\n",
    "recur_fibo(-1)"
   ]
  },
  {
   "cell_type": "code",
   "execution_count": 70,
   "id": "00612a4c",
   "metadata": {},
   "outputs": [
    {
     "data": {
      "text/plain": [
       "144"
      ]
     },
     "execution_count": 70,
     "metadata": {},
     "output_type": "execute_result"
    }
   ],
   "source": [
    "recur_fibo(12)"
   ]
  },
  {
   "cell_type": "markdown",
   "id": "abfc3d45",
   "metadata": {},
   "source": [
    "# 2. Write a Python Program to Find Factorial of Number Using Recursion?\n"
   ]
  },
  {
   "cell_type": "code",
   "execution_count": 88,
   "id": "fbb1d81d",
   "metadata": {},
   "outputs": [],
   "source": [
    "def facto(n):\n",
    "    if n<0:\n",
    "        print(\"enter Postive Number\" , n)\n",
    "    elif n==0:\n",
    "        return 1\n",
    "    elif n==1:\n",
    "        return n\n",
    "    else:    \n",
    "        return n*facto(n-1)\n"
   ]
  },
  {
   "cell_type": "code",
   "execution_count": 89,
   "id": "21ee9417",
   "metadata": {},
   "outputs": [
    {
     "data": {
      "text/plain": [
       "1"
      ]
     },
     "execution_count": 89,
     "metadata": {},
     "output_type": "execute_result"
    }
   ],
   "source": [
    "facto(0)"
   ]
  },
  {
   "cell_type": "markdown",
   "id": "34180899",
   "metadata": {},
   "source": [
    "# 3. Write a Python Program to calculate your Body Mass Index?\n"
   ]
  },
  {
   "cell_type": "code",
   "execution_count": 97,
   "id": "8b6e5f95",
   "metadata": {},
   "outputs": [
    {
     "name": "stdout",
     "output_type": "stream",
     "text": [
      "height in meters 1.82\n",
      "weight in kg 60\n",
      "18.11375437749064\n"
     ]
    }
   ],
   "source": [
    "height=float(input(\"height in meters \"))\n",
    "weight =float(input(\"weight in kg \"))\n",
    "bmi = weight/(height**2)\n",
    "print(bmi)\n"
   ]
  },
  {
   "cell_type": "markdown",
   "id": "eaf67ab2",
   "metadata": {},
   "source": [
    "# 4. Write a Python Program to calculate the natural logarithm of any number?\n"
   ]
  },
  {
   "cell_type": "code",
   "execution_count": 103,
   "id": "b2ce0a83",
   "metadata": {},
   "outputs": [
    {
     "name": "stdout",
     "output_type": "stream",
     "text": [
      "2.302585092994046\n",
      "2.302585092994046\n"
     ]
    }
   ],
   "source": [
    "import numpy as np\n",
    "def log1(x):  \n",
    "    print(np.log(x))\n",
    "log1(10)"
   ]
  },
  {
   "cell_type": "markdown",
   "id": "af0852c0",
   "metadata": {},
   "source": [
    "# 5. Write a Python Program for cube sum of first n natural numbers?"
   ]
  },
  {
   "cell_type": "code",
   "execution_count": 128,
   "id": "f81aeb9c",
   "metadata": {},
   "outputs": [],
   "source": [
    "def cubesum(n):\n",
    "    l=[]\n",
    "    for i in range(1,n+1):\n",
    "        l.append(i**3)\n",
    "    print(\"all cubed elements : \",l)\n",
    "    print(\"total sum = \" , sum(l))"
   ]
  },
  {
   "cell_type": "code",
   "execution_count": 129,
   "id": "dcf7965c",
   "metadata": {},
   "outputs": [
    {
     "name": "stdout",
     "output_type": "stream",
     "text": [
      "all cubed elements :  [1, 8, 27, 64, 125, 216, 343, 512, 729, 1000]\n",
      "total sum =  3025\n"
     ]
    }
   ],
   "source": [
    "cubesum(10)"
   ]
  }
 ],
 "metadata": {
  "kernelspec": {
   "display_name": "Python 3",
   "language": "python",
   "name": "python3"
  },
  "language_info": {
   "codemirror_mode": {
    "name": "ipython",
    "version": 3
   },
   "file_extension": ".py",
   "mimetype": "text/x-python",
   "name": "python",
   "nbconvert_exporter": "python",
   "pygments_lexer": "ipython3",
   "version": "3.8.5"
  }
 },
 "nbformat": 4,
 "nbformat_minor": 5
}
